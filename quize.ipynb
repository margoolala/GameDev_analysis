{
 "cells": [
  {
   "cell_type": "code",
   "execution_count": 2,
   "metadata": {},
   "outputs": [],
   "source": [
    "import pandas as pd"
   ]
  },
  {
   "cell_type": "code",
   "execution_count": 3,
   "metadata": {},
   "outputs": [],
   "source": [
    "event = pd.read_csv('D:/Users/Desktop/cources/skill factory/PYTHON/PANDAS/gd_quize/7_4_Events.csv',sep = ',')\n",
    "purchase = pd.read_csv('D:/Users/Desktop/cources/skill factory/PYTHON/PANDAS/gd_quize/purchase.csv',sep = ',')\n"
   ]
  },
  {
   "cell_type": "code",
   "execution_count": 4,
   "metadata": {},
   "outputs": [
    {
     "data": {
      "text/html": [
       "<div>\n",
       "<style scoped>\n",
       "    .dataframe tbody tr th:only-of-type {\n",
       "        vertical-align: middle;\n",
       "    }\n",
       "\n",
       "    .dataframe tbody tr th {\n",
       "        vertical-align: top;\n",
       "    }\n",
       "\n",
       "    .dataframe thead th {\n",
       "        text-align: right;\n",
       "    }\n",
       "</style>\n",
       "<table border=\"1\" class=\"dataframe\">\n",
       "  <thead>\n",
       "    <tr style=\"text-align: right;\">\n",
       "      <th></th>\n",
       "      <th>id</th>\n",
       "      <th>event_type</th>\n",
       "      <th>selected_level</th>\n",
       "      <th>start_time</th>\n",
       "      <th>tutorial_id</th>\n",
       "      <th>user_id</th>\n",
       "    </tr>\n",
       "  </thead>\n",
       "  <tbody>\n",
       "    <tr>\n",
       "      <th>0</th>\n",
       "      <td>28903</td>\n",
       "      <td>registration</td>\n",
       "      <td>NaN</td>\n",
       "      <td>2016-05-11T23:40:55</td>\n",
       "      <td>NaN</td>\n",
       "      <td>12583</td>\n",
       "    </tr>\n",
       "    <tr>\n",
       "      <th>1</th>\n",
       "      <td>28904</td>\n",
       "      <td>registration</td>\n",
       "      <td>NaN</td>\n",
       "      <td>2016-05-11T23:49:58</td>\n",
       "      <td>NaN</td>\n",
       "      <td>12584</td>\n",
       "    </tr>\n",
       "    <tr>\n",
       "      <th>2</th>\n",
       "      <td>28905</td>\n",
       "      <td>registration</td>\n",
       "      <td>NaN</td>\n",
       "      <td>2016-05-12T00:53:07</td>\n",
       "      <td>NaN</td>\n",
       "      <td>12585</td>\n",
       "    </tr>\n",
       "    <tr>\n",
       "      <th>3</th>\n",
       "      <td>28906</td>\n",
       "      <td>tutorial_start</td>\n",
       "      <td>NaN</td>\n",
       "      <td>2016-05-12T01:32:20</td>\n",
       "      <td>17562.0</td>\n",
       "      <td>12585</td>\n",
       "    </tr>\n",
       "    <tr>\n",
       "      <th>4</th>\n",
       "      <td>28907</td>\n",
       "      <td>tutorial_finish</td>\n",
       "      <td>NaN</td>\n",
       "      <td>2016-05-12T01:34:53</td>\n",
       "      <td>17562.0</td>\n",
       "      <td>12585</td>\n",
       "    </tr>\n",
       "    <tr>\n",
       "      <th>5</th>\n",
       "      <td>28908</td>\n",
       "      <td>tutorial_start</td>\n",
       "      <td>NaN</td>\n",
       "      <td>2016-05-12T02:11:29</td>\n",
       "      <td>17563.0</td>\n",
       "      <td>12584</td>\n",
       "    </tr>\n",
       "    <tr>\n",
       "      <th>6</th>\n",
       "      <td>28909</td>\n",
       "      <td>tutorial_finish</td>\n",
       "      <td>NaN</td>\n",
       "      <td>2016-05-12T02:14:14</td>\n",
       "      <td>17563.0</td>\n",
       "      <td>12584</td>\n",
       "    </tr>\n",
       "    <tr>\n",
       "      <th>7</th>\n",
       "      <td>28910</td>\n",
       "      <td>level_choice</td>\n",
       "      <td>hard</td>\n",
       "      <td>2016-05-12T05:30:25</td>\n",
       "      <td>NaN</td>\n",
       "      <td>12584</td>\n",
       "    </tr>\n",
       "    <tr>\n",
       "      <th>8</th>\n",
       "      <td>28911</td>\n",
       "      <td>pack_choice</td>\n",
       "      <td>NaN</td>\n",
       "      <td>2016-05-12T05:38:24</td>\n",
       "      <td>NaN</td>\n",
       "      <td>12584</td>\n",
       "    </tr>\n",
       "    <tr>\n",
       "      <th>9</th>\n",
       "      <td>28912</td>\n",
       "      <td>tutorial_start</td>\n",
       "      <td>NaN</td>\n",
       "      <td>2016-05-12T07:19:01</td>\n",
       "      <td>17564.0</td>\n",
       "      <td>12583</td>\n",
       "    </tr>\n",
       "  </tbody>\n",
       "</table>\n",
       "</div>"
      ],
      "text/plain": [
       "      id       event_type selected_level           start_time  tutorial_id  \\\n",
       "0  28903     registration            NaN  2016-05-11T23:40:55          NaN   \n",
       "1  28904     registration            NaN  2016-05-11T23:49:58          NaN   \n",
       "2  28905     registration            NaN  2016-05-12T00:53:07          NaN   \n",
       "3  28906   tutorial_start            NaN  2016-05-12T01:32:20      17562.0   \n",
       "4  28907  tutorial_finish            NaN  2016-05-12T01:34:53      17562.0   \n",
       "5  28908   tutorial_start            NaN  2016-05-12T02:11:29      17563.0   \n",
       "6  28909  tutorial_finish            NaN  2016-05-12T02:14:14      17563.0   \n",
       "7  28910     level_choice           hard  2016-05-12T05:30:25          NaN   \n",
       "8  28911      pack_choice            NaN  2016-05-12T05:38:24          NaN   \n",
       "9  28912   tutorial_start            NaN  2016-05-12T07:19:01      17564.0   \n",
       "\n",
       "   user_id  \n",
       "0    12583  \n",
       "1    12584  \n",
       "2    12585  \n",
       "3    12585  \n",
       "4    12585  \n",
       "5    12584  \n",
       "6    12584  \n",
       "7    12584  \n",
       "8    12584  \n",
       "9    12583  "
      ]
     },
     "metadata": {},
     "output_type": "display_data"
    },
    {
     "data": {
      "text/html": [
       "<div>\n",
       "<style scoped>\n",
       "    .dataframe tbody tr th:only-of-type {\n",
       "        vertical-align: middle;\n",
       "    }\n",
       "\n",
       "    .dataframe tbody tr th {\n",
       "        vertical-align: top;\n",
       "    }\n",
       "\n",
       "    .dataframe thead th {\n",
       "        text-align: right;\n",
       "    }\n",
       "</style>\n",
       "<table border=\"1\" class=\"dataframe\">\n",
       "  <thead>\n",
       "    <tr style=\"text-align: right;\">\n",
       "      <th></th>\n",
       "      <th>id</th>\n",
       "      <th>user_id</th>\n",
       "      <th>event_datetime</th>\n",
       "      <th>amount</th>\n",
       "    </tr>\n",
       "  </thead>\n",
       "  <tbody>\n",
       "    <tr>\n",
       "      <th>0</th>\n",
       "      <td>15674</td>\n",
       "      <td>12584</td>\n",
       "      <td>2016-05-12T10:34:16</td>\n",
       "      <td>100</td>\n",
       "    </tr>\n",
       "    <tr>\n",
       "      <th>1</th>\n",
       "      <td>15675</td>\n",
       "      <td>12985</td>\n",
       "      <td>2016-05-13T08:25:56</td>\n",
       "      <td>50</td>\n",
       "    </tr>\n",
       "    <tr>\n",
       "      <th>2</th>\n",
       "      <td>15676</td>\n",
       "      <td>12828</td>\n",
       "      <td>2016-05-13T16:33:46</td>\n",
       "      <td>50</td>\n",
       "    </tr>\n",
       "    <tr>\n",
       "      <th>3</th>\n",
       "      <td>15677</td>\n",
       "      <td>12598</td>\n",
       "      <td>2016-05-14T01:09:37</td>\n",
       "      <td>150</td>\n",
       "    </tr>\n",
       "    <tr>\n",
       "      <th>4</th>\n",
       "      <td>15678</td>\n",
       "      <td>13037</td>\n",
       "      <td>2016-05-14T01:24:46</td>\n",
       "      <td>100</td>\n",
       "    </tr>\n",
       "    <tr>\n",
       "      <th>5</th>\n",
       "      <td>15679</td>\n",
       "      <td>12989</td>\n",
       "      <td>2016-05-14T02:19:20</td>\n",
       "      <td>200</td>\n",
       "    </tr>\n",
       "    <tr>\n",
       "      <th>6</th>\n",
       "      <td>15680</td>\n",
       "      <td>12684</td>\n",
       "      <td>2016-05-14T03:10:14</td>\n",
       "      <td>100</td>\n",
       "    </tr>\n",
       "    <tr>\n",
       "      <th>7</th>\n",
       "      <td>15681</td>\n",
       "      <td>12656</td>\n",
       "      <td>2016-05-14T03:42:48</td>\n",
       "      <td>100</td>\n",
       "    </tr>\n",
       "    <tr>\n",
       "      <th>8</th>\n",
       "      <td>15682</td>\n",
       "      <td>12624</td>\n",
       "      <td>2016-05-14T06:00:45</td>\n",
       "      <td>50</td>\n",
       "    </tr>\n",
       "    <tr>\n",
       "      <th>9</th>\n",
       "      <td>15683</td>\n",
       "      <td>13136</td>\n",
       "      <td>2016-05-14T07:31:03</td>\n",
       "      <td>50</td>\n",
       "    </tr>\n",
       "  </tbody>\n",
       "</table>\n",
       "</div>"
      ],
      "text/plain": [
       "      id  user_id       event_datetime  amount\n",
       "0  15674    12584  2016-05-12T10:34:16     100\n",
       "1  15675    12985  2016-05-13T08:25:56      50\n",
       "2  15676    12828  2016-05-13T16:33:46      50\n",
       "3  15677    12598  2016-05-14T01:09:37     150\n",
       "4  15678    13037  2016-05-14T01:24:46     100\n",
       "5  15679    12989  2016-05-14T02:19:20     200\n",
       "6  15680    12684  2016-05-14T03:10:14     100\n",
       "7  15681    12656  2016-05-14T03:42:48     100\n",
       "8  15682    12624  2016-05-14T06:00:45      50\n",
       "9  15683    13136  2016-05-14T07:31:03      50"
      ]
     },
     "metadata": {},
     "output_type": "display_data"
    }
   ],
   "source": [
    "display(event.head(10))\n",
    "display(purchase.head(10))"
   ]
  },
  {
   "cell_type": "code",
   "execution_count": 5,
   "metadata": {},
   "outputs": [
    {
     "name": "stdout",
     "output_type": "stream",
     "text": [
      "<class 'pandas.core.frame.DataFrame'>\n",
      "Int64Index: 66959 entries, 51405 to 118364\n",
      "Data columns (total 6 columns):\n",
      " #   Column          Non-Null Count  Dtype  \n",
      "---  ------          --------------  -----  \n",
      " 0   id              66959 non-null  int64  \n",
      " 1   event_type      66959 non-null  object \n",
      " 2   selected_level  8342 non-null   object \n",
      " 3   start_time      66959 non-null  object \n",
      " 4   tutorial_id     32954 non-null  float64\n",
      " 5   user_id         66959 non-null  int64  \n",
      "dtypes: float64(1), int64(2), object(3)\n",
      "memory usage: 3.6+ MB\n"
     ]
    }
   ],
   "source": [
    "mask_year = (event['event_type'] == 'registration') & (event['start_time'] >= '2018-01-01') & (event['start_time'] < '2019-01-01')\n",
    "registered_users = event[mask_year]['user_id'].values # выведем список пользователей зарегавшихся в 2018 году\n",
    "events_registred = event[event['user_id'].isin(registered_users)] # таблица с фильтром на пользователях\n",
    "events_registred.info()\n"
   ]
  },
  {
   "cell_type": "code",
   "execution_count": 6,
   "metadata": {},
   "outputs": [
    {
     "data": {
      "text/plain": [
       "19926"
      ]
     },
     "execution_count": 6,
     "metadata": {},
     "output_type": "execute_result"
    }
   ],
   "source": [
    "events_registred['user_id'].nunique()"
   ]
  },
  {
   "cell_type": "code",
   "execution_count": 7,
   "metadata": {},
   "outputs": [
    {
     "data": {
      "text/html": [
       "<div>\n",
       "<style scoped>\n",
       "    .dataframe tbody tr th:only-of-type {\n",
       "        vertical-align: middle;\n",
       "    }\n",
       "\n",
       "    .dataframe tbody tr th {\n",
       "        vertical-align: top;\n",
       "    }\n",
       "\n",
       "    .dataframe thead th {\n",
       "        text-align: right;\n",
       "    }\n",
       "</style>\n",
       "<table border=\"1\" class=\"dataframe\">\n",
       "  <thead>\n",
       "    <tr style=\"text-align: right;\">\n",
       "      <th></th>\n",
       "      <th>id</th>\n",
       "      <th>event_type</th>\n",
       "      <th>selected_level</th>\n",
       "      <th>start_time</th>\n",
       "      <th>tutorial_id</th>\n",
       "      <th>user_id</th>\n",
       "    </tr>\n",
       "  </thead>\n",
       "  <tbody>\n",
       "    <tr>\n",
       "      <th>count</th>\n",
       "      <td>66959.000000</td>\n",
       "      <td>66959</td>\n",
       "      <td>8342</td>\n",
       "      <td>66959</td>\n",
       "      <td>32954.000000</td>\n",
       "      <td>66959.000000</td>\n",
       "    </tr>\n",
       "    <tr>\n",
       "      <th>unique</th>\n",
       "      <td>NaN</td>\n",
       "      <td>5</td>\n",
       "      <td>3</td>\n",
       "      <td>66809</td>\n",
       "      <td>NaN</td>\n",
       "      <td>NaN</td>\n",
       "    </tr>\n",
       "    <tr>\n",
       "      <th>top</th>\n",
       "      <td>NaN</td>\n",
       "      <td>registration</td>\n",
       "      <td>medium</td>\n",
       "      <td>2018-03-13T09:37:43</td>\n",
       "      <td>NaN</td>\n",
       "      <td>NaN</td>\n",
       "    </tr>\n",
       "    <tr>\n",
       "      <th>freq</th>\n",
       "      <td>NaN</td>\n",
       "      <td>19926</td>\n",
       "      <td>4645</td>\n",
       "      <td>9</td>\n",
       "      <td>NaN</td>\n",
       "      <td>NaN</td>\n",
       "    </tr>\n",
       "    <tr>\n",
       "      <th>mean</th>\n",
       "      <td>113787.000045</td>\n",
       "      <td>NaN</td>\n",
       "      <td>NaN</td>\n",
       "      <td>NaN</td>\n",
       "      <td>40532.934393</td>\n",
       "      <td>37781.543362</td>\n",
       "    </tr>\n",
       "    <tr>\n",
       "      <th>std</th>\n",
       "      <td>19329.542752</td>\n",
       "      <td>NaN</td>\n",
       "      <td>NaN</td>\n",
       "      <td>NaN</td>\n",
       "      <td>5213.486632</td>\n",
       "      <td>5751.497904</td>\n",
       "    </tr>\n",
       "    <tr>\n",
       "      <th>min</th>\n",
       "      <td>80308.000000</td>\n",
       "      <td>NaN</td>\n",
       "      <td>NaN</td>\n",
       "      <td>NaN</td>\n",
       "      <td>31505.000000</td>\n",
       "      <td>27832.000000</td>\n",
       "    </tr>\n",
       "    <tr>\n",
       "      <th>25%</th>\n",
       "      <td>97047.500000</td>\n",
       "      <td>NaN</td>\n",
       "      <td>NaN</td>\n",
       "      <td>NaN</td>\n",
       "      <td>36008.250000</td>\n",
       "      <td>32849.000000</td>\n",
       "    </tr>\n",
       "    <tr>\n",
       "      <th>50%</th>\n",
       "      <td>113787.000000</td>\n",
       "      <td>NaN</td>\n",
       "      <td>NaN</td>\n",
       "      <td>NaN</td>\n",
       "      <td>40529.500000</td>\n",
       "      <td>37719.000000</td>\n",
       "    </tr>\n",
       "    <tr>\n",
       "      <th>75%</th>\n",
       "      <td>130526.500000</td>\n",
       "      <td>NaN</td>\n",
       "      <td>NaN</td>\n",
       "      <td>NaN</td>\n",
       "      <td>45057.750000</td>\n",
       "      <td>42733.000000</td>\n",
       "    </tr>\n",
       "    <tr>\n",
       "      <th>max</th>\n",
       "      <td>147267.000000</td>\n",
       "      <td>NaN</td>\n",
       "      <td>NaN</td>\n",
       "      <td>NaN</td>\n",
       "      <td>49554.000000</td>\n",
       "      <td>47757.000000</td>\n",
       "    </tr>\n",
       "  </tbody>\n",
       "</table>\n",
       "</div>"
      ],
      "text/plain": [
       "                   id    event_type selected_level           start_time  \\\n",
       "count    66959.000000         66959           8342                66959   \n",
       "unique            NaN             5              3                66809   \n",
       "top               NaN  registration         medium  2018-03-13T09:37:43   \n",
       "freq              NaN         19926           4645                    9   \n",
       "mean    113787.000045           NaN            NaN                  NaN   \n",
       "std      19329.542752           NaN            NaN                  NaN   \n",
       "min      80308.000000           NaN            NaN                  NaN   \n",
       "25%      97047.500000           NaN            NaN                  NaN   \n",
       "50%     113787.000000           NaN            NaN                  NaN   \n",
       "75%     130526.500000           NaN            NaN                  NaN   \n",
       "max     147267.000000           NaN            NaN                  NaN   \n",
       "\n",
       "         tutorial_id       user_id  \n",
       "count   32954.000000  66959.000000  \n",
       "unique           NaN           NaN  \n",
       "top              NaN           NaN  \n",
       "freq             NaN           NaN  \n",
       "mean    40532.934393  37781.543362  \n",
       "std      5213.486632   5751.497904  \n",
       "min     31505.000000  27832.000000  \n",
       "25%     36008.250000  32849.000000  \n",
       "50%     40529.500000  37719.000000  \n",
       "75%     45057.750000  42733.000000  \n",
       "max     49554.000000  47757.000000  "
      ]
     },
     "execution_count": 7,
     "metadata": {},
     "output_type": "execute_result"
    }
   ],
   "source": [
    "events_registred.describe(include='all')"
   ]
  },
  {
   "cell_type": "code",
   "execution_count": 8,
   "metadata": {},
   "outputs": [
    {
     "name": "stdout",
     "output_type": "stream",
     "text": [
      "<class 'pandas.core.frame.DataFrame'>\n",
      "RangeIndex: 5956 entries, 0 to 5955\n",
      "Data columns (total 4 columns):\n",
      " #   Column          Non-Null Count  Dtype \n",
      "---  ------          --------------  ----- \n",
      " 0   id              5956 non-null   int64 \n",
      " 1   user_id         5956 non-null   int64 \n",
      " 2   event_datetime  5956 non-null   object\n",
      " 3   amount          5956 non-null   int64 \n",
      "dtypes: int64(3), object(1)\n",
      "memory usage: 186.2+ KB\n"
     ]
    }
   ],
   "source": [
    "purchase.info()"
   ]
  },
  {
   "cell_type": "code",
   "execution_count": 9,
   "metadata": {},
   "outputs": [
    {
     "name": "stdout",
     "output_type": "stream",
     "text": [
      "<class 'pandas.core.frame.DataFrame'>\n",
      "Int64Index: 1600 entries, 1171 to 2778\n",
      "Data columns (total 4 columns):\n",
      " #   Column          Non-Null Count  Dtype \n",
      "---  ------          --------------  ----- \n",
      " 0   id              1600 non-null   int64 \n",
      " 1   user_id         1600 non-null   int64 \n",
      " 2   event_datetime  1600 non-null   object\n",
      " 3   amount          1600 non-null   int64 \n",
      "dtypes: int64(3), object(1)\n",
      "memory usage: 62.5+ KB\n"
     ]
    },
    {
     "data": {
      "text/html": [
       "<div>\n",
       "<style scoped>\n",
       "    .dataframe tbody tr th:only-of-type {\n",
       "        vertical-align: middle;\n",
       "    }\n",
       "\n",
       "    .dataframe tbody tr th {\n",
       "        vertical-align: top;\n",
       "    }\n",
       "\n",
       "    .dataframe thead th {\n",
       "        text-align: right;\n",
       "    }\n",
       "</style>\n",
       "<table border=\"1\" class=\"dataframe\">\n",
       "  <thead>\n",
       "    <tr style=\"text-align: right;\">\n",
       "      <th></th>\n",
       "      <th>id</th>\n",
       "      <th>user_id</th>\n",
       "      <th>event_datetime</th>\n",
       "      <th>amount</th>\n",
       "    </tr>\n",
       "  </thead>\n",
       "  <tbody>\n",
       "    <tr>\n",
       "      <th>1171</th>\n",
       "      <td>16845</td>\n",
       "      <td>27845</td>\n",
       "      <td>2018-01-03T18:53:43</td>\n",
       "      <td>100</td>\n",
       "    </tr>\n",
       "    <tr>\n",
       "      <th>1172</th>\n",
       "      <td>16846</td>\n",
       "      <td>27865</td>\n",
       "      <td>2018-01-04T14:46:10</td>\n",
       "      <td>250</td>\n",
       "    </tr>\n",
       "    <tr>\n",
       "      <th>1174</th>\n",
       "      <td>16848</td>\n",
       "      <td>27911</td>\n",
       "      <td>2018-01-07T08:19:12</td>\n",
       "      <td>50</td>\n",
       "    </tr>\n",
       "    <tr>\n",
       "      <th>1175</th>\n",
       "      <td>16849</td>\n",
       "      <td>27910</td>\n",
       "      <td>2018-01-07T12:11:34</td>\n",
       "      <td>100</td>\n",
       "    </tr>\n",
       "    <tr>\n",
       "      <th>1176</th>\n",
       "      <td>16850</td>\n",
       "      <td>27940</td>\n",
       "      <td>2018-01-07T13:16:41</td>\n",
       "      <td>200</td>\n",
       "    </tr>\n",
       "  </tbody>\n",
       "</table>\n",
       "</div>"
      ],
      "text/plain": [
       "         id  user_id       event_datetime  amount\n",
       "1171  16845    27845  2018-01-03T18:53:43     100\n",
       "1172  16846    27865  2018-01-04T14:46:10     250\n",
       "1174  16848    27911  2018-01-07T08:19:12      50\n",
       "1175  16849    27910  2018-01-07T12:11:34     100\n",
       "1176  16850    27940  2018-01-07T13:16:41     200"
      ]
     },
     "execution_count": 9,
     "metadata": {},
     "output_type": "execute_result"
    }
   ],
   "source": [
    "purchase_registred = purchase[purchase['user_id'].isin(registered_users)]\n",
    "purchase_registred.info()\n",
    "purchase_registred.head()"
   ]
  },
  {
   "cell_type": "markdown",
   "metadata": {},
   "source": [
    "Изучаем событие registration"
   ]
  },
  {
   "cell_type": "code",
   "execution_count": 10,
   "metadata": {},
   "outputs": [
    {
     "data": {
      "text/plain": [
       "19926"
      ]
     },
     "execution_count": 10,
     "metadata": {},
     "output_type": "execute_result"
    }
   ],
   "source": [
    "events_registred[events_registred['event_type']=='registration']['user_id'].nunique() \n",
    "# Сколько пользователей совершили событие registration"
   ]
  },
  {
   "cell_type": "code",
   "execution_count": 11,
   "metadata": {},
   "outputs": [
    {
     "data": {
      "text/plain": [
       "19926"
      ]
     },
     "execution_count": 11,
     "metadata": {},
     "output_type": "execute_result"
    }
   ],
   "source": [
    "events_registred['user_id'].nunique() # кол-во совпадает, все пользователи совершают регистрацию"
   ]
  },
  {
   "cell_type": "code",
   "execution_count": 12,
   "metadata": {},
   "outputs": [
    {
     "data": {
      "text/html": [
       "<div>\n",
       "<style scoped>\n",
       "    .dataframe tbody tr th:only-of-type {\n",
       "        vertical-align: middle;\n",
       "    }\n",
       "\n",
       "    .dataframe tbody tr th {\n",
       "        vertical-align: top;\n",
       "    }\n",
       "\n",
       "    .dataframe thead th {\n",
       "        text-align: right;\n",
       "    }\n",
       "</style>\n",
       "<table border=\"1\" class=\"dataframe\">\n",
       "  <thead>\n",
       "    <tr style=\"text-align: right;\">\n",
       "      <th></th>\n",
       "      <th>id</th>\n",
       "      <th>event_type</th>\n",
       "      <th>selected_level</th>\n",
       "      <th>start_time</th>\n",
       "      <th>tutorial_id</th>\n",
       "      <th>user_id</th>\n",
       "    </tr>\n",
       "  </thead>\n",
       "  <tbody>\n",
       "    <tr>\n",
       "      <th>51412</th>\n",
       "      <td>80315</td>\n",
       "      <td>tutorial_start</td>\n",
       "      <td>NaN</td>\n",
       "      <td>2018-01-01T14:54:40</td>\n",
       "      <td>31505.0</td>\n",
       "      <td>27836</td>\n",
       "    </tr>\n",
       "    <tr>\n",
       "      <th>51413</th>\n",
       "      <td>80316</td>\n",
       "      <td>tutorial_start</td>\n",
       "      <td>NaN</td>\n",
       "      <td>2018-01-01T15:00:51</td>\n",
       "      <td>31506.0</td>\n",
       "      <td>27835</td>\n",
       "    </tr>\n",
       "    <tr>\n",
       "      <th>51415</th>\n",
       "      <td>80318</td>\n",
       "      <td>tutorial_start</td>\n",
       "      <td>NaN</td>\n",
       "      <td>2018-01-01T15:40:43</td>\n",
       "      <td>31507.0</td>\n",
       "      <td>27836</td>\n",
       "    </tr>\n",
       "    <tr>\n",
       "      <th>51417</th>\n",
       "      <td>80320</td>\n",
       "      <td>tutorial_start</td>\n",
       "      <td>NaN</td>\n",
       "      <td>2018-01-01T17:47:40</td>\n",
       "      <td>31508.0</td>\n",
       "      <td>27833</td>\n",
       "    </tr>\n",
       "    <tr>\n",
       "      <th>51420</th>\n",
       "      <td>80323</td>\n",
       "      <td>tutorial_start</td>\n",
       "      <td>NaN</td>\n",
       "      <td>2018-01-01T19:11:36</td>\n",
       "      <td>31509.0</td>\n",
       "      <td>27839</td>\n",
       "    </tr>\n",
       "    <tr>\n",
       "      <th>51422</th>\n",
       "      <td>80325</td>\n",
       "      <td>tutorial_start</td>\n",
       "      <td>NaN</td>\n",
       "      <td>2018-01-01T19:46:11</td>\n",
       "      <td>31510.0</td>\n",
       "      <td>27834</td>\n",
       "    </tr>\n",
       "    <tr>\n",
       "      <th>51434</th>\n",
       "      <td>80337</td>\n",
       "      <td>tutorial_start</td>\n",
       "      <td>NaN</td>\n",
       "      <td>2018-01-02T02:07:07</td>\n",
       "      <td>31511.0</td>\n",
       "      <td>27840</td>\n",
       "    </tr>\n",
       "    <tr>\n",
       "      <th>51435</th>\n",
       "      <td>80338</td>\n",
       "      <td>tutorial_start</td>\n",
       "      <td>NaN</td>\n",
       "      <td>2018-01-02T03:03:44</td>\n",
       "      <td>31512.0</td>\n",
       "      <td>27845</td>\n",
       "    </tr>\n",
       "    <tr>\n",
       "      <th>51437</th>\n",
       "      <td>80340</td>\n",
       "      <td>tutorial_start</td>\n",
       "      <td>NaN</td>\n",
       "      <td>2018-01-02T04:55:11</td>\n",
       "      <td>31513.0</td>\n",
       "      <td>27842</td>\n",
       "    </tr>\n",
       "    <tr>\n",
       "      <th>51446</th>\n",
       "      <td>80349</td>\n",
       "      <td>tutorial_start</td>\n",
       "      <td>NaN</td>\n",
       "      <td>2018-01-02T07:08:00</td>\n",
       "      <td>31514.0</td>\n",
       "      <td>27845</td>\n",
       "    </tr>\n",
       "  </tbody>\n",
       "</table>\n",
       "</div>"
      ],
      "text/plain": [
       "          id      event_type selected_level           start_time  tutorial_id  \\\n",
       "51412  80315  tutorial_start            NaN  2018-01-01T14:54:40      31505.0   \n",
       "51413  80316  tutorial_start            NaN  2018-01-01T15:00:51      31506.0   \n",
       "51415  80318  tutorial_start            NaN  2018-01-01T15:40:43      31507.0   \n",
       "51417  80320  tutorial_start            NaN  2018-01-01T17:47:40      31508.0   \n",
       "51420  80323  tutorial_start            NaN  2018-01-01T19:11:36      31509.0   \n",
       "51422  80325  tutorial_start            NaN  2018-01-01T19:46:11      31510.0   \n",
       "51434  80337  tutorial_start            NaN  2018-01-02T02:07:07      31511.0   \n",
       "51435  80338  tutorial_start            NaN  2018-01-02T03:03:44      31512.0   \n",
       "51437  80340  tutorial_start            NaN  2018-01-02T04:55:11      31513.0   \n",
       "51446  80349  tutorial_start            NaN  2018-01-02T07:08:00      31514.0   \n",
       "\n",
       "       user_id  \n",
       "51412    27836  \n",
       "51413    27835  \n",
       "51415    27836  \n",
       "51417    27833  \n",
       "51420    27839  \n",
       "51422    27834  \n",
       "51434    27840  \n",
       "51435    27845  \n",
       "51437    27842  \n",
       "51446    27845  "
      ]
     },
     "execution_count": 12,
     "metadata": {},
     "output_type": "execute_result"
    }
   ],
   "source": [
    "events_registred[events_registred['event_type']=='tutorial_start'].head(10) # срез данных по событию tutorial_start"
   ]
  },
  {
   "cell_type": "code",
   "execution_count": 13,
   "metadata": {},
   "outputs": [
    {
     "data": {
      "text/plain": [
       "11858"
      ]
     },
     "execution_count": 13,
     "metadata": {},
     "output_type": "execute_result"
    }
   ],
   "source": [
    "events_registred[events_registred['event_type']=='tutorial_start']['user_id'].nunique() \n",
    "# число пользователей прошедших регистрацию больше чем обучение"
   ]
  },
  {
   "cell_type": "code",
   "execution_count": 14,
   "metadata": {},
   "outputs": [
    {
     "name": "stdout",
     "output_type": "stream",
     "text": [
      "Процент пользователей, начавших обучение, от общего числа зарегистрировавшихся: 59.51%\n"
     ]
    }
   ],
   "source": [
    "registered_users_count = events_registred[events_registred['event_type']=='registration']['user_id'].nunique() \n",
    "tutorial_users_count = events_registred[events_registred['event_type']=='tutorial_start']['user_id'].nunique() \n",
    "percent_tutorial_start_users = tutorial_users_count / registered_users_count\n",
    "print(f'Процент пользователей, начавших обучение, от общего числа зарегистрировавшихся: {percent_tutorial_start_users:.2%}')"
   ]
  },
  {
   "cell_type": "code",
   "execution_count": 15,
   "metadata": {},
   "outputs": [
    {
     "name": "stdout",
     "output_type": "stream",
     "text": [
      "10250\n"
     ]
    }
   ],
   "source": [
    "tutorial_finish_users_count = events_registred[events_registred['event_type']=='tutorial_finish']['user_id'].nunique()\n",
    "print(tutorial_finish_users_count)"
   ]
  },
  {
   "cell_type": "code",
   "execution_count": 16,
   "metadata": {},
   "outputs": [
    {
     "name": "stdout",
     "output_type": "stream",
     "text": [
      "Процент пользователей, завершивших обучение: 86.44%\n"
     ]
    }
   ],
   "source": [
    "tutorial_completion_rate = tutorial_finish_users_count / tutorial_users_count # коэффициент «завершаемости» обучения\n",
    "print(f'Процент пользователей, завершивших обучение: {tutorial_completion_rate:.2%}')"
   ]
  },
  {
   "cell_type": "code",
   "execution_count": 17,
   "metadata": {},
   "outputs": [
    {
     "data": {
      "text/plain": [
       "8342"
      ]
     },
     "execution_count": 17,
     "metadata": {},
     "output_type": "execute_result"
    }
   ],
   "source": [
    "events_registred[events_registred['event_type']=='level_choice']['user_id'].nunique()\n",
    "# выясним сколько дошли до следующего этапа level_choice"
   ]
  },
  {
   "cell_type": "code",
   "execution_count": 74,
   "metadata": {},
   "outputs": [
    {
     "name": "stdout",
     "output_type": "stream",
     "text": [
      "Процент пользователей, выбравших уровень сложности тренировок (от общего числа зарегистрировавшихся):    41.86%\n",
      "8342\n"
     ]
    }
   ],
   "source": [
    "level_choice_users_count = events_registred[events_registred['event_type']=='level_choice']['user_id'].nunique() \n",
    "percent_level_choice_users = level_choice_users_count / registered_users_count\n",
    "print(f'Процент пользователей, выбравших уровень сложности тренировок (от общего числа зарегистрировавшихся):\\\n",
    "    {percent_level_choice_users:.2%}')\n",
    "print(level_choice_users_count)"
   ]
  },
  {
   "cell_type": "markdown",
   "metadata": {},
   "source": [
    "Меньше половины пользователей (41.76 %) доходят до этапа выбора уровня сложности вопросов. А ведь этот этап напрямую влияет на то, что пользователь будет пользоваться приложением через бесплатные возможности, которые в дальнейшем могут привести к оплате.\n"
   ]
  },
  {
   "cell_type": "code",
   "execution_count": 19,
   "metadata": {},
   "outputs": [
    {
     "data": {
      "text/plain": [
       "5737"
      ]
     },
     "execution_count": 19,
     "metadata": {},
     "output_type": "execute_result"
    }
   ],
   "source": [
    "events_registred[events_registred['event_type']=='pack_choice']['user_id'].nunique() # выбрали бесплатный пакет вопросов\n"
   ]
  },
  {
   "cell_type": "code",
   "execution_count": 75,
   "metadata": {},
   "outputs": [
    {
     "name": "stdout",
     "output_type": "stream",
     "text": [
      "Процент пользователей, выбравших пакет бесплатных вопросов (от числа пользователей, которые выбрали уровень сложности:    68.77%\n",
      "8342\n"
     ]
    }
   ],
   "source": [
    "training_choice_user_count = events_registred[events_registred['event_type']=='pack_choice']['user_id'].nunique()\n",
    "percent_training_choice_users = training_choice_user_count / level_choice_users_count \n",
    "print(f'Процент пользователей, выбравших пакет бесплатных вопросов (от числа пользователей, которые выбрали уровень сложности:\\\n",
    "    {percent_training_choice_users:.2%}')\n",
    "print(level_choice_users_count)"
   ]
  },
  {
   "cell_type": "code",
   "execution_count": 21,
   "metadata": {},
   "outputs": [
    {
     "data": {
      "text/plain": [
       "1600"
      ]
     },
     "execution_count": 21,
     "metadata": {},
     "output_type": "execute_result"
    }
   ],
   "source": [
    "purchase_registred['user_id'].nunique() # пользователи совершившие покупку платных пакетов"
   ]
  },
  {
   "cell_type": "code",
   "execution_count": 22,
   "metadata": {},
   "outputs": [
    {
     "name": "stdout",
     "output_type": "stream",
     "text": [
      "Процент пользователей, которые оплатили вопросы (от числа пользователей, которые выбрали тренировки):    27.89%\n"
     ]
    }
   ],
   "source": [
    "paying_users_count = purchase_registred['user_id'].nunique()\n",
    "percent_of_paying_users = paying_users_count / training_choice_user_count\n",
    "print(f'Процент пользователей, которые оплатили вопросы (от числа пользователей, которые выбрали тренировки):\\\n",
    "    {percent_of_paying_users:.2%}')"
   ]
  },
  {
   "cell_type": "code",
   "execution_count": 23,
   "metadata": {},
   "outputs": [
    {
     "name": "stdout",
     "output_type": "stream",
     "text": [
      "Процент пользователей, которые оплатили вопросы(от числа зарегистрировавшихся пользователей):    8.03%\n"
     ]
    }
   ],
   "source": [
    "purchase_rate = paying_users_count / registered_users_count \n",
    "print(f'Процент пользователей, которые оплатили вопросы(от числа зарегистрировавшихся пользователей):\\\n",
    "    {purchase_rate:.2%}')"
   ]
  },
  {
   "cell_type": "markdown",
   "metadata": {},
   "source": [
    "АНАЛИЗ УНИКАЛЬНЫХ ПОЛЬЗОВАТЕЛЬСКИХ ПУТЕЙ"
   ]
  },
  {
   "cell_type": "code",
   "execution_count": 24,
   "metadata": {},
   "outputs": [
    {
     "name": "stderr",
     "output_type": "stream",
     "text": [
      "C:\\Users\\Admin\\AppData\\Local\\Temp\\ipykernel_4568\\4120196975.py:2: SettingWithCopyWarning: \n",
      "A value is trying to be set on a copy of a slice from a DataFrame.\n",
      "Try using .loc[row_indexer,col_indexer] = value instead\n",
      "\n",
      "See the caveats in the documentation: https://pandas.pydata.org/pandas-docs/stable/user_guide/indexing.html#returning-a-view-versus-a-copy\n",
      "  purchase_registred['event_type'] = 'purchase'\n"
     ]
    },
    {
     "data": {
      "text/plain": [
       "0       purchase\n",
       "1       purchase\n",
       "2       purchase\n",
       "3       purchase\n",
       "4       purchase\n",
       "          ...   \n",
       "5951    purchase\n",
       "5952    purchase\n",
       "5953    purchase\n",
       "5954    purchase\n",
       "5955    purchase\n",
       "Name: event_type, Length: 5956, dtype: object"
      ]
     },
     "metadata": {},
     "output_type": "display_data"
    }
   ],
   "source": [
    "purchase['event_type'] = 'purchase' # добавим событие purchase\n",
    "purchase_registred['event_type'] = 'purchase'\n",
    "display(purchase['event_type'])"
   ]
  },
  {
   "cell_type": "code",
   "execution_count": 25,
   "metadata": {},
   "outputs": [],
   "source": [
    "event = event.rename(columns={'id':'event_id'}) # переименуем столбец с одинаковыми названиями\n",
    "purchase = purchase.rename(columns={'id':'purchase_id'})"
   ]
  },
  {
   "cell_type": "code",
   "execution_count": 26,
   "metadata": {},
   "outputs": [],
   "source": [
    "events_registred = events_registred.rename(columns={'id':'event_id'})\n",
    "purchase_registred = purchase_registred.rename(columns={'id':'purchase_id'})\n",
    "purchase_registred = purchase_registred.rename(columns={'event_datetime':'start_time'})"
   ]
  },
  {
   "cell_type": "code",
   "execution_count": 27,
   "metadata": {},
   "outputs": [
    {
     "data": {
      "text/html": [
       "<div>\n",
       "<style scoped>\n",
       "    .dataframe tbody tr th:only-of-type {\n",
       "        vertical-align: middle;\n",
       "    }\n",
       "\n",
       "    .dataframe tbody tr th {\n",
       "        vertical-align: top;\n",
       "    }\n",
       "\n",
       "    .dataframe thead th {\n",
       "        text-align: right;\n",
       "    }\n",
       "</style>\n",
       "<table border=\"1\" class=\"dataframe\">\n",
       "  <thead>\n",
       "    <tr style=\"text-align: right;\">\n",
       "      <th></th>\n",
       "      <th>event_id</th>\n",
       "      <th>event_type</th>\n",
       "      <th>selected_level</th>\n",
       "      <th>start_time</th>\n",
       "      <th>tutorial_id</th>\n",
       "      <th>user_id</th>\n",
       "    </tr>\n",
       "  </thead>\n",
       "  <tbody>\n",
       "    <tr>\n",
       "      <th>51405</th>\n",
       "      <td>80308</td>\n",
       "      <td>registration</td>\n",
       "      <td>NaN</td>\n",
       "      <td>2018-01-01T03:48:40</td>\n",
       "      <td>NaN</td>\n",
       "      <td>27832</td>\n",
       "    </tr>\n",
       "    <tr>\n",
       "      <th>51406</th>\n",
       "      <td>80309</td>\n",
       "      <td>registration</td>\n",
       "      <td>NaN</td>\n",
       "      <td>2018-01-01T04:07:25</td>\n",
       "      <td>NaN</td>\n",
       "      <td>27833</td>\n",
       "    </tr>\n",
       "    <tr>\n",
       "      <th>51407</th>\n",
       "      <td>80310</td>\n",
       "      <td>registration</td>\n",
       "      <td>NaN</td>\n",
       "      <td>2018-01-01T08:35:10</td>\n",
       "      <td>NaN</td>\n",
       "      <td>27834</td>\n",
       "    </tr>\n",
       "    <tr>\n",
       "      <th>51408</th>\n",
       "      <td>80311</td>\n",
       "      <td>registration</td>\n",
       "      <td>NaN</td>\n",
       "      <td>2018-01-01T11:54:47</td>\n",
       "      <td>NaN</td>\n",
       "      <td>27835</td>\n",
       "    </tr>\n",
       "    <tr>\n",
       "      <th>51409</th>\n",
       "      <td>80312</td>\n",
       "      <td>registration</td>\n",
       "      <td>NaN</td>\n",
       "      <td>2018-01-01T13:28:07</td>\n",
       "      <td>NaN</td>\n",
       "      <td>27836</td>\n",
       "    </tr>\n",
       "    <tr>\n",
       "      <th>51410</th>\n",
       "      <td>80313</td>\n",
       "      <td>registration</td>\n",
       "      <td>NaN</td>\n",
       "      <td>2018-01-01T14:08:40</td>\n",
       "      <td>NaN</td>\n",
       "      <td>27837</td>\n",
       "    </tr>\n",
       "    <tr>\n",
       "      <th>51411</th>\n",
       "      <td>80314</td>\n",
       "      <td>registration</td>\n",
       "      <td>NaN</td>\n",
       "      <td>2018-01-01T14:42:58</td>\n",
       "      <td>NaN</td>\n",
       "      <td>27838</td>\n",
       "    </tr>\n",
       "    <tr>\n",
       "      <th>51412</th>\n",
       "      <td>80315</td>\n",
       "      <td>tutorial_start</td>\n",
       "      <td>NaN</td>\n",
       "      <td>2018-01-01T14:54:40</td>\n",
       "      <td>31505.0</td>\n",
       "      <td>27836</td>\n",
       "    </tr>\n",
       "    <tr>\n",
       "      <th>51413</th>\n",
       "      <td>80316</td>\n",
       "      <td>tutorial_start</td>\n",
       "      <td>NaN</td>\n",
       "      <td>2018-01-01T15:00:51</td>\n",
       "      <td>31506.0</td>\n",
       "      <td>27835</td>\n",
       "    </tr>\n",
       "    <tr>\n",
       "      <th>51414</th>\n",
       "      <td>80317</td>\n",
       "      <td>tutorial_finish</td>\n",
       "      <td>NaN</td>\n",
       "      <td>2018-01-01T15:06:15</td>\n",
       "      <td>31506.0</td>\n",
       "      <td>27835</td>\n",
       "    </tr>\n",
       "  </tbody>\n",
       "</table>\n",
       "</div>"
      ],
      "text/plain": [
       "       event_id       event_type selected_level           start_time  \\\n",
       "51405     80308     registration            NaN  2018-01-01T03:48:40   \n",
       "51406     80309     registration            NaN  2018-01-01T04:07:25   \n",
       "51407     80310     registration            NaN  2018-01-01T08:35:10   \n",
       "51408     80311     registration            NaN  2018-01-01T11:54:47   \n",
       "51409     80312     registration            NaN  2018-01-01T13:28:07   \n",
       "51410     80313     registration            NaN  2018-01-01T14:08:40   \n",
       "51411     80314     registration            NaN  2018-01-01T14:42:58   \n",
       "51412     80315   tutorial_start            NaN  2018-01-01T14:54:40   \n",
       "51413     80316   tutorial_start            NaN  2018-01-01T15:00:51   \n",
       "51414     80317  tutorial_finish            NaN  2018-01-01T15:06:15   \n",
       "\n",
       "       tutorial_id  user_id  \n",
       "51405          NaN    27832  \n",
       "51406          NaN    27833  \n",
       "51407          NaN    27834  \n",
       "51408          NaN    27835  \n",
       "51409          NaN    27836  \n",
       "51410          NaN    27837  \n",
       "51411          NaN    27838  \n",
       "51412      31505.0    27836  \n",
       "51413      31506.0    27835  \n",
       "51414      31506.0    27835  "
      ]
     },
     "metadata": {},
     "output_type": "display_data"
    },
    {
     "data": {
      "text/html": [
       "<div>\n",
       "<style scoped>\n",
       "    .dataframe tbody tr th:only-of-type {\n",
       "        vertical-align: middle;\n",
       "    }\n",
       "\n",
       "    .dataframe tbody tr th {\n",
       "        vertical-align: top;\n",
       "    }\n",
       "\n",
       "    .dataframe thead th {\n",
       "        text-align: right;\n",
       "    }\n",
       "</style>\n",
       "<table border=\"1\" class=\"dataframe\">\n",
       "  <thead>\n",
       "    <tr style=\"text-align: right;\">\n",
       "      <th></th>\n",
       "      <th>purchase_id</th>\n",
       "      <th>user_id</th>\n",
       "      <th>start_time</th>\n",
       "      <th>amount</th>\n",
       "      <th>event_type</th>\n",
       "    </tr>\n",
       "  </thead>\n",
       "  <tbody>\n",
       "    <tr>\n",
       "      <th>1171</th>\n",
       "      <td>16845</td>\n",
       "      <td>27845</td>\n",
       "      <td>2018-01-03T18:53:43</td>\n",
       "      <td>100</td>\n",
       "      <td>purchase</td>\n",
       "    </tr>\n",
       "    <tr>\n",
       "      <th>1172</th>\n",
       "      <td>16846</td>\n",
       "      <td>27865</td>\n",
       "      <td>2018-01-04T14:46:10</td>\n",
       "      <td>250</td>\n",
       "      <td>purchase</td>\n",
       "    </tr>\n",
       "    <tr>\n",
       "      <th>1174</th>\n",
       "      <td>16848</td>\n",
       "      <td>27911</td>\n",
       "      <td>2018-01-07T08:19:12</td>\n",
       "      <td>50</td>\n",
       "      <td>purchase</td>\n",
       "    </tr>\n",
       "    <tr>\n",
       "      <th>1175</th>\n",
       "      <td>16849</td>\n",
       "      <td>27910</td>\n",
       "      <td>2018-01-07T12:11:34</td>\n",
       "      <td>100</td>\n",
       "      <td>purchase</td>\n",
       "    </tr>\n",
       "    <tr>\n",
       "      <th>1176</th>\n",
       "      <td>16850</td>\n",
       "      <td>27940</td>\n",
       "      <td>2018-01-07T13:16:41</td>\n",
       "      <td>200</td>\n",
       "      <td>purchase</td>\n",
       "    </tr>\n",
       "    <tr>\n",
       "      <th>1177</th>\n",
       "      <td>16851</td>\n",
       "      <td>27965</td>\n",
       "      <td>2018-01-07T22:55:33</td>\n",
       "      <td>100</td>\n",
       "      <td>purchase</td>\n",
       "    </tr>\n",
       "    <tr>\n",
       "      <th>1178</th>\n",
       "      <td>16852</td>\n",
       "      <td>27981</td>\n",
       "      <td>2018-01-07T23:20:25</td>\n",
       "      <td>50</td>\n",
       "      <td>purchase</td>\n",
       "    </tr>\n",
       "    <tr>\n",
       "      <th>1179</th>\n",
       "      <td>16853</td>\n",
       "      <td>27969</td>\n",
       "      <td>2018-01-08T01:18:23</td>\n",
       "      <td>100</td>\n",
       "      <td>purchase</td>\n",
       "    </tr>\n",
       "    <tr>\n",
       "      <th>1180</th>\n",
       "      <td>16854</td>\n",
       "      <td>27884</td>\n",
       "      <td>2018-01-08T19:37:34</td>\n",
       "      <td>150</td>\n",
       "      <td>purchase</td>\n",
       "    </tr>\n",
       "    <tr>\n",
       "      <th>1181</th>\n",
       "      <td>16855</td>\n",
       "      <td>27977</td>\n",
       "      <td>2018-01-09T14:09:18</td>\n",
       "      <td>25</td>\n",
       "      <td>purchase</td>\n",
       "    </tr>\n",
       "  </tbody>\n",
       "</table>\n",
       "</div>"
      ],
      "text/plain": [
       "      purchase_id  user_id           start_time  amount event_type\n",
       "1171        16845    27845  2018-01-03T18:53:43     100   purchase\n",
       "1172        16846    27865  2018-01-04T14:46:10     250   purchase\n",
       "1174        16848    27911  2018-01-07T08:19:12      50   purchase\n",
       "1175        16849    27910  2018-01-07T12:11:34     100   purchase\n",
       "1176        16850    27940  2018-01-07T13:16:41     200   purchase\n",
       "1177        16851    27965  2018-01-07T22:55:33     100   purchase\n",
       "1178        16852    27981  2018-01-07T23:20:25      50   purchase\n",
       "1179        16853    27969  2018-01-08T01:18:23     100   purchase\n",
       "1180        16854    27884  2018-01-08T19:37:34     150   purchase\n",
       "1181        16855    27977  2018-01-09T14:09:18      25   purchase"
      ]
     },
     "metadata": {},
     "output_type": "display_data"
    },
    {
     "data": {
      "text/plain": [
       "registration       19926\n",
       "tutorial_start     18050\n",
       "tutorial_finish    14904\n",
       "level_choice        8342\n",
       "pack_choice         5737\n",
       "Name: event_type, dtype: int64"
      ]
     },
     "metadata": {},
     "output_type": "display_data"
    }
   ],
   "source": [
    "display(events_registred.head(10))\n",
    "display(purchase_registred.head(10))\n",
    "display(events_registred['event_type'].value_counts())"
   ]
  },
  {
   "cell_type": "code",
   "execution_count": 28,
   "metadata": {},
   "outputs": [
    {
     "data": {
      "text/plain": [
       "registration       19926\n",
       "tutorial_start     18050\n",
       "tutorial_finish    14904\n",
       "level_choice        8342\n",
       "pack_choice         5737\n",
       "purchase            1600\n",
       "Name: event_type, dtype: int64"
      ]
     },
     "metadata": {},
     "output_type": "display_data"
    }
   ],
   "source": [
    "total_events = pd.concat([events_registred,purchase_registred],sort=False) # объединим датафреймы со всеми событиями\n",
    "total_events.head(10)\n",
    "display(total_events['event_type'].value_counts())"
   ]
  },
  {
   "cell_type": "code",
   "execution_count": 29,
   "metadata": {},
   "outputs": [
    {
     "name": "stdout",
     "output_type": "stream",
     "text": [
      "<class 'pandas.core.frame.DataFrame'>\n",
      "Int64Index: 68559 entries, 51405 to 2778\n",
      "Data columns (total 8 columns):\n",
      " #   Column          Non-Null Count  Dtype  \n",
      "---  ------          --------------  -----  \n",
      " 0   event_id        66959 non-null  float64\n",
      " 1   event_type      68559 non-null  object \n",
      " 2   selected_level  8342 non-null   object \n",
      " 3   start_time      68559 non-null  object \n",
      " 4   tutorial_id     32954 non-null  float64\n",
      " 5   user_id         68559 non-null  int64  \n",
      " 6   purchase_id     1600 non-null   float64\n",
      " 7   amount          1600 non-null   float64\n",
      "dtypes: float64(4), int64(1), object(3)\n",
      "memory usage: 4.7+ MB\n"
     ]
    }
   ],
   "source": [
    "total_events.info()"
   ]
  },
  {
   "cell_type": "markdown",
   "metadata": {},
   "source": [
    "Теперь сбросим индексы объединённого датафрейма (так как после объединения они дублировались и несут мало смысла) с помощью метода reset_index() и отсортируем все события по возрастанию времени с помощью sort_values()"
   ]
  },
  {
   "cell_type": "code",
   "execution_count": 30,
   "metadata": {},
   "outputs": [],
   "source": [
    "total_events = total_events.reset_index(drop=True).sort_values('start_time') # сформировали выборку, в которой объединили события и оплаты"
   ]
  },
  {
   "cell_type": "markdown",
   "metadata": {},
   "source": [
    "Воссоздаём последовательность событий поведения пользователя"
   ]
  },
  {
   "cell_type": "code",
   "execution_count": 31,
   "metadata": {},
   "outputs": [
    {
     "data": {
      "text/html": [
       "<div>\n",
       "<style scoped>\n",
       "    .dataframe tbody tr th:only-of-type {\n",
       "        vertical-align: middle;\n",
       "    }\n",
       "\n",
       "    .dataframe tbody tr th {\n",
       "        vertical-align: top;\n",
       "    }\n",
       "\n",
       "    .dataframe thead th {\n",
       "        text-align: right;\n",
       "    }\n",
       "</style>\n",
       "<table border=\"1\" class=\"dataframe\">\n",
       "  <thead>\n",
       "    <tr style=\"text-align: right;\">\n",
       "      <th></th>\n",
       "      <th>user_id</th>\n",
       "      <th>event_type</th>\n",
       "    </tr>\n",
       "  </thead>\n",
       "  <tbody>\n",
       "    <tr>\n",
       "      <th>0</th>\n",
       "      <td>27832</td>\n",
       "      <td>[registration]</td>\n",
       "    </tr>\n",
       "    <tr>\n",
       "      <th>1</th>\n",
       "      <td>27833</td>\n",
       "      <td>[registration, tutorial_start, tutorial_finish]</td>\n",
       "    </tr>\n",
       "    <tr>\n",
       "      <th>2</th>\n",
       "      <td>27834</td>\n",
       "      <td>[registration, tutorial_start, tutorial_finish]</td>\n",
       "    </tr>\n",
       "    <tr>\n",
       "      <th>3</th>\n",
       "      <td>27835</td>\n",
       "      <td>[registration, tutorial_start, tutorial_finish...</td>\n",
       "    </tr>\n",
       "    <tr>\n",
       "      <th>4</th>\n",
       "      <td>27836</td>\n",
       "      <td>[registration, tutorial_start, tutorial_start,...</td>\n",
       "    </tr>\n",
       "  </tbody>\n",
       "</table>\n",
       "</div>"
      ],
      "text/plain": [
       "   user_id                                         event_type\n",
       "0    27832                                     [registration]\n",
       "1    27833    [registration, tutorial_start, tutorial_finish]\n",
       "2    27834    [registration, tutorial_start, tutorial_finish]\n",
       "3    27835  [registration, tutorial_start, tutorial_finish...\n",
       "4    27836  [registration, tutorial_start, tutorial_start,..."
      ]
     },
     "execution_count": 31,
     "metadata": {},
     "output_type": "execute_result"
    }
   ],
   "source": [
    "user_path = total_events.groupby(['user_id'])['event_type'].apply(list).reset_index()\n",
    "user_path.head()"
   ]
  },
  {
   "cell_type": "code",
   "execution_count": 32,
   "metadata": {},
   "outputs": [
    {
     "data": {
      "text/plain": [
       "0                                         registration\n",
       "1      registration > tutorial_start > tutorial_finish\n",
       "2      registration > tutorial_start > tutorial_finish\n",
       "3    registration > tutorial_start > tutorial_finis...\n",
       "4    registration > tutorial_start > tutorial_start...\n",
       "5                                         registration\n",
       "6                                         registration\n",
       "7    registration > tutorial_start > tutorial_finis...\n",
       "8         registration > tutorial_start > level_choice\n",
       "9      registration > tutorial_start > tutorial_finish\n",
       "Name: event_path, dtype: object"
      ]
     },
     "execution_count": 32,
     "metadata": {},
     "output_type": "execute_result"
    }
   ],
   "source": [
    "user_path['event_path'] = user_path['event_type'].apply(lambda x: \" > \".join(x))\n",
    "user_path['event_path'].head(10)\n",
    "\n"
   ]
  },
  {
   "cell_type": "code",
   "execution_count": 33,
   "metadata": {},
   "outputs": [
    {
     "data": {
      "text/plain": [
       "event_path\n",
       "registration                                                                                                       7970\n",
       "registration > tutorial_start > tutorial_finish > level_choice > pack_choice                                       2796\n",
       "registration > tutorial_start > tutorial_finish                                                                    1956\n",
       "registration > tutorial_start > tutorial_finish > level_choice                                                     1713\n",
       "registration > tutorial_start > tutorial_finish > level_choice > pack_choice > purchase                            1083\n",
       "registration > tutorial_start                                                                                       842\n",
       "registration > tutorial_start > level_choice > pack_choice                                                          346\n",
       "registration > tutorial_start > tutorial_finish > tutorial_start > tutorial_finish                                  323\n",
       "registration > tutorial_start > level_choice                                                                        243\n",
       "registration > tutorial_start > tutorial_finish > level_choice > pack_choice > tutorial_start > tutorial_finish     236\n",
       "Name: user_id, dtype: int64"
      ]
     },
     "execution_count": 33,
     "metadata": {},
     "output_type": "execute_result"
    }
   ],
   "source": [
    "user_paths = user_path.groupby('event_path')['user_id'].nunique().sort_values(ascending=False)\n",
    "user_paths.head(10)"
   ]
  },
  {
   "cell_type": "markdown",
   "metadata": {},
   "source": [
    "только 1 из 10 самых популярных последовательностей привела к покупке"
   ]
  },
  {
   "cell_type": "code",
   "execution_count": 34,
   "metadata": {},
   "outputs": [
    {
     "data": {
      "text/plain": [
       "event_path\n",
       "registration > tutorial_start > tutorial_finish > level_choice > pack_choice > purchase                                                                                                             1083\n",
       "registration > tutorial_start > level_choice > pack_choice > purchase                                                                                                                                124\n",
       "registration > tutorial_start > tutorial_finish > level_choice > pack_choice > tutorial_start > tutorial_finish > purchase                                                                           101\n",
       "registration > tutorial_start > tutorial_finish > tutorial_start > tutorial_finish > level_choice > pack_choice > purchase                                                                            52\n",
       "registration > tutorial_start > tutorial_start > tutorial_finish > level_choice > pack_choice > purchase                                                                                              26\n",
       "registration > level_choice > pack_choice > purchase                                                                                                                                                  22\n",
       "registration > tutorial_start > tutorial_finish > level_choice > pack_choice > tutorial_start > purchase                                                                                              21\n",
       "registration > tutorial_start > tutorial_finish > level_choice > pack_choice > tutorial_start > tutorial_finish > tutorial_start > tutorial_finish > purchase                                         12\n",
       "registration > tutorial_start > tutorial_finish > tutorial_start > tutorial_finish > level_choice > pack_choice > tutorial_start > tutorial_finish > purchase                                          8\n",
       "registration > tutorial_start > tutorial_finish > level_choice > pack_choice > tutorial_start > tutorial_finish > tutorial_start > tutorial_finish > tutorial_start > tutorial_finish > purchase       7\n",
       "Name: user_id, dtype: int64"
      ]
     },
     "execution_count": 34,
     "metadata": {},
     "output_type": "execute_result"
    }
   ],
   "source": [
    "user_paths[user_paths.index.str.contains('purchase')].head(10)\n",
    "# Давайте посмотрим, какие ещё последовательности содержат в себе оплату"
   ]
  },
  {
   "cell_type": "markdown",
   "metadata": {},
   "source": [
    "Большинство последовательностей, которые содержат в себе оплату, также содержат старт обучения. Это наводит нас на гипотезу, что вероятность оплаты зависит от того, проходил ли пользователь обучение"
   ]
  },
  {
   "cell_type": "code",
   "execution_count": 35,
   "metadata": {},
   "outputs": [
    {
     "data": {
      "text/plain": [
       "1.0"
      ]
     },
     "execution_count": 35,
     "metadata": {},
     "output_type": "execute_result"
    }
   ],
   "source": [
    "registration_df = total_events[total_events['event_type']=='registration'] # создадим отдельный df только регистрации\n",
    "registration_df['user_id'].value_counts().mean() # проверим что на 1 пользрвателя приходится 1 регистрация"
   ]
  },
  {
   "cell_type": "code",
   "execution_count": 36,
   "metadata": {},
   "outputs": [],
   "source": [
    "registration_df = registration_df[['user_id','start_time']].rename(columns={'start_time':'registration_time'})\n",
    "\n"
   ]
  },
  {
   "cell_type": "code",
   "execution_count": 37,
   "metadata": {},
   "outputs": [
    {
     "data": {
      "text/plain": [
       "1.522179119581717"
      ]
     },
     "execution_count": 37,
     "metadata": {},
     "output_type": "execute_result"
    }
   ],
   "source": [
    "tutorial_df = total_events[total_events['event_type']=='tutorial_start'] # создадим отдельный df только обучения\n",
    "tutorial_df['user_id'].value_counts().mean() # проверим сколько в среднем обучений проходит 1 пользователь"
   ]
  },
  {
   "cell_type": "code",
   "execution_count": 38,
   "metadata": {},
   "outputs": [
    {
     "data": {
      "text/html": [
       "<div>\n",
       "<style scoped>\n",
       "    .dataframe tbody tr th:only-of-type {\n",
       "        vertical-align: middle;\n",
       "    }\n",
       "\n",
       "    .dataframe tbody tr th {\n",
       "        vertical-align: top;\n",
       "    }\n",
       "\n",
       "    .dataframe thead th {\n",
       "        text-align: right;\n",
       "    }\n",
       "</style>\n",
       "<table border=\"1\" class=\"dataframe\">\n",
       "  <thead>\n",
       "    <tr style=\"text-align: right;\">\n",
       "      <th></th>\n",
       "      <th>event_id</th>\n",
       "      <th>event_type</th>\n",
       "      <th>selected_level</th>\n",
       "      <th>start_time</th>\n",
       "      <th>tutorial_id</th>\n",
       "      <th>user_id</th>\n",
       "      <th>purchase_id</th>\n",
       "      <th>amount</th>\n",
       "    </tr>\n",
       "  </thead>\n",
       "  <tbody>\n",
       "    <tr>\n",
       "      <th>7</th>\n",
       "      <td>80315.0</td>\n",
       "      <td>tutorial_start</td>\n",
       "      <td>NaN</td>\n",
       "      <td>2018-01-01T14:54:40</td>\n",
       "      <td>31505.0</td>\n",
       "      <td>27836</td>\n",
       "      <td>NaN</td>\n",
       "      <td>NaN</td>\n",
       "    </tr>\n",
       "    <tr>\n",
       "      <th>8</th>\n",
       "      <td>80316.0</td>\n",
       "      <td>tutorial_start</td>\n",
       "      <td>NaN</td>\n",
       "      <td>2018-01-01T15:00:51</td>\n",
       "      <td>31506.0</td>\n",
       "      <td>27835</td>\n",
       "      <td>NaN</td>\n",
       "      <td>NaN</td>\n",
       "    </tr>\n",
       "    <tr>\n",
       "      <th>10</th>\n",
       "      <td>80318.0</td>\n",
       "      <td>tutorial_start</td>\n",
       "      <td>NaN</td>\n",
       "      <td>2018-01-01T15:40:43</td>\n",
       "      <td>31507.0</td>\n",
       "      <td>27836</td>\n",
       "      <td>NaN</td>\n",
       "      <td>NaN</td>\n",
       "    </tr>\n",
       "    <tr>\n",
       "      <th>12</th>\n",
       "      <td>80320.0</td>\n",
       "      <td>tutorial_start</td>\n",
       "      <td>NaN</td>\n",
       "      <td>2018-01-01T17:47:40</td>\n",
       "      <td>31508.0</td>\n",
       "      <td>27833</td>\n",
       "      <td>NaN</td>\n",
       "      <td>NaN</td>\n",
       "    </tr>\n",
       "    <tr>\n",
       "      <th>15</th>\n",
       "      <td>80323.0</td>\n",
       "      <td>tutorial_start</td>\n",
       "      <td>NaN</td>\n",
       "      <td>2018-01-01T19:11:36</td>\n",
       "      <td>31509.0</td>\n",
       "      <td>27839</td>\n",
       "      <td>NaN</td>\n",
       "      <td>NaN</td>\n",
       "    </tr>\n",
       "  </tbody>\n",
       "</table>\n",
       "</div>"
      ],
      "text/plain": [
       "    event_id      event_type selected_level           start_time  tutorial_id  \\\n",
       "7    80315.0  tutorial_start            NaN  2018-01-01T14:54:40      31505.0   \n",
       "8    80316.0  tutorial_start            NaN  2018-01-01T15:00:51      31506.0   \n",
       "10   80318.0  tutorial_start            NaN  2018-01-01T15:40:43      31507.0   \n",
       "12   80320.0  tutorial_start            NaN  2018-01-01T17:47:40      31508.0   \n",
       "15   80323.0  tutorial_start            NaN  2018-01-01T19:11:36      31509.0   \n",
       "\n",
       "    user_id  purchase_id  amount  \n",
       "7     27836          NaN     NaN  \n",
       "8     27835          NaN     NaN  \n",
       "10    27836          NaN     NaN  \n",
       "12    27833          NaN     NaN  \n",
       "15    27839          NaN     NaN  "
      ]
     },
     "execution_count": 38,
     "metadata": {},
     "output_type": "execute_result"
    }
   ],
   "source": [
    "tutorial_df.head()"
   ]
  },
  {
   "cell_type": "code",
   "execution_count": 39,
   "metadata": {},
   "outputs": [
    {
     "data": {
      "text/plain": [
       "1.0"
      ]
     },
     "execution_count": 39,
     "metadata": {},
     "output_type": "execute_result"
    }
   ],
   "source": [
    "tutorial_start_df_wo_duplicates = tutorial_df.sort_values('start_time').drop_duplicates('user_id') # отсортируем и удалим дупликаты\n",
    "tutorial_start_df_wo_duplicates['user_id'].value_counts().mean() # будем проверять только 1-ое обучение"
   ]
  },
  {
   "cell_type": "code",
   "execution_count": 40,
   "metadata": {},
   "outputs": [],
   "source": [
    "tutorial_start_df_wo_duplicates = tutorial_start_df_wo_duplicates[\n",
    "    ['user_id','tutorial_id','start_time']\n",
    "].rename(columns={'start_time':'tutorial_start_time'})\n"
   ]
  },
  {
   "cell_type": "code",
   "execution_count": 41,
   "metadata": {},
   "outputs": [
    {
     "data": {
      "text/html": [
       "<div>\n",
       "<style scoped>\n",
       "    .dataframe tbody tr th:only-of-type {\n",
       "        vertical-align: middle;\n",
       "    }\n",
       "\n",
       "    .dataframe tbody tr th {\n",
       "        vertical-align: top;\n",
       "    }\n",
       "\n",
       "    .dataframe thead th {\n",
       "        text-align: right;\n",
       "    }\n",
       "</style>\n",
       "<table border=\"1\" class=\"dataframe\">\n",
       "  <thead>\n",
       "    <tr style=\"text-align: right;\">\n",
       "      <th></th>\n",
       "      <th>user_id</th>\n",
       "      <th>registration_time</th>\n",
       "      <th>tutorial_id</th>\n",
       "      <th>tutorial_start_time</th>\n",
       "    </tr>\n",
       "  </thead>\n",
       "  <tbody>\n",
       "    <tr>\n",
       "      <th>0</th>\n",
       "      <td>27833</td>\n",
       "      <td>2018-01-01T04:07:25</td>\n",
       "      <td>31508.0</td>\n",
       "      <td>2018-01-01T17:47:40</td>\n",
       "    </tr>\n",
       "    <tr>\n",
       "      <th>1</th>\n",
       "      <td>27834</td>\n",
       "      <td>2018-01-01T08:35:10</td>\n",
       "      <td>31510.0</td>\n",
       "      <td>2018-01-01T19:46:11</td>\n",
       "    </tr>\n",
       "    <tr>\n",
       "      <th>2</th>\n",
       "      <td>27835</td>\n",
       "      <td>2018-01-01T11:54:47</td>\n",
       "      <td>31506.0</td>\n",
       "      <td>2018-01-01T15:00:51</td>\n",
       "    </tr>\n",
       "    <tr>\n",
       "      <th>3</th>\n",
       "      <td>27836</td>\n",
       "      <td>2018-01-01T13:28:07</td>\n",
       "      <td>31505.0</td>\n",
       "      <td>2018-01-01T14:54:40</td>\n",
       "    </tr>\n",
       "    <tr>\n",
       "      <th>4</th>\n",
       "      <td>27839</td>\n",
       "      <td>2018-01-01T18:24:01</td>\n",
       "      <td>31509.0</td>\n",
       "      <td>2018-01-01T19:11:36</td>\n",
       "    </tr>\n",
       "  </tbody>\n",
       "</table>\n",
       "</div>"
      ],
      "text/plain": [
       "   user_id    registration_time  tutorial_id  tutorial_start_time\n",
       "0    27833  2018-01-01T04:07:25      31508.0  2018-01-01T17:47:40\n",
       "1    27834  2018-01-01T08:35:10      31510.0  2018-01-01T19:46:11\n",
       "2    27835  2018-01-01T11:54:47      31506.0  2018-01-01T15:00:51\n",
       "3    27836  2018-01-01T13:28:07      31505.0  2018-01-01T14:54:40\n",
       "4    27839  2018-01-01T18:24:01      31509.0  2018-01-01T19:11:36"
      ]
     },
     "execution_count": 41,
     "metadata": {},
     "output_type": "execute_result"
    }
   ],
   "source": [
    "merged_df = registration_df.merge(tutorial_start_df_wo_duplicates,on='user_id',how='inner') # объединим таблицы по столбцу user_id \n",
    "merged_df.head()"
   ]
  },
  {
   "cell_type": "code",
   "execution_count": 42,
   "metadata": {},
   "outputs": [
    {
     "name": "stdout",
     "output_type": "stream",
     "text": [
      "<class 'pandas.core.frame.DataFrame'>\n",
      "Int64Index: 11858 entries, 0 to 11857\n",
      "Data columns (total 5 columns):\n",
      " #   Column               Non-Null Count  Dtype          \n",
      "---  ------               --------------  -----          \n",
      " 0   user_id              11858 non-null  int64          \n",
      " 1   registration_time    11858 non-null  datetime64[ns] \n",
      " 2   tutorial_id          11858 non-null  float64        \n",
      " 3   tutorial_start_time  11858 non-null  datetime64[ns] \n",
      " 4   timedelta            11858 non-null  timedelta64[ns]\n",
      "dtypes: datetime64[ns](2), float64(1), int64(1), timedelta64[ns](1)\n",
      "memory usage: 555.8 KB\n"
     ]
    }
   ],
   "source": [
    "merged_df['tutorial_start_time'] = pd.to_datetime(merged_df['tutorial_start_time'],yearfirst=True) # приведем к временному формату \n",
    "merged_df['registration_time'] = pd.to_datetime(merged_df['registration_time'] ,yearfirst=True)\n",
    "merged_df['timedelta'] = merged_df['tutorial_start_time'] - merged_df['registration_time'] # разницf между временем начала обучения и временем регистрации\n",
    "merged_df.head()\n",
    "merged_df.info()\n"
   ]
  },
  {
   "cell_type": "code",
   "execution_count": 43,
   "metadata": {},
   "outputs": [
    {
     "data": {
      "text/plain": [
       "Timedelta('0 days 04:38:24.019817844')"
      ]
     },
     "execution_count": 43,
     "metadata": {},
     "output_type": "execute_result"
    }
   ],
   "source": [
    "merged_df['timedelta'].mean() # среднее время, которое проходит между регистрацией пользователя и началом первого обучения"
   ]
  },
  {
   "cell_type": "code",
   "execution_count": 44,
   "metadata": {},
   "outputs": [
    {
     "data": {
      "text/plain": [
       "count                        11858\n",
       "mean     0 days 04:38:24.019817844\n",
       "std      0 days 04:15:09.650705034\n",
       "min                0 days 00:00:34\n",
       "25%         0 days 01:21:37.500000\n",
       "50%         0 days 03:22:08.500000\n",
       "75%         0 days 06:47:42.750000\n",
       "max                1 days 16:03:46\n",
       "Name: timedelta, dtype: object"
      ]
     },
     "execution_count": 44,
     "metadata": {},
     "output_type": "execute_result"
    }
   ],
   "source": [
    "merged_df['timedelta'].describe() # проверим медианное и среднее значение"
   ]
  },
  {
   "cell_type": "markdown",
   "metadata": {},
   "source": [
    "Такая сегментация пользователей может дать нам важные опорные точки для оптимизации времени. Мы можем сосредоточится не на оптимизации среднего времени (поскольку среднее будет увеличено за счёт пользователей, которые долго проходят этап), а на том, чтобы оптимизировать медианное время"
   ]
  },
  {
   "cell_type": "markdown",
   "metadata": {},
   "source": [
    "измеряем время обучения:"
   ]
  },
  {
   "cell_type": "code",
   "execution_count": 45,
   "metadata": {},
   "outputs": [],
   "source": [
    "tutorial_finish_df = total_events[total_events['event_type']=='tutorial_finish'] # выведем df с событием окончания обучения"
   ]
  },
  {
   "cell_type": "code",
   "execution_count": 46,
   "metadata": {},
   "outputs": [],
   "source": [
    "first_tutorial_ids = tutorial_start_df_wo_duplicates['tutorial_id'].unique() # возьмём время окончания первого обучения для тех обучений\n",
    "    # которые были закончены\n",
    "    # сформируем список с идентификаторами первых обучений"
   ]
  },
  {
   "cell_type": "code",
   "execution_count": 47,
   "metadata": {},
   "outputs": [
    {
     "data": {
      "text/plain": [
       "1.0"
      ]
     },
     "execution_count": 47,
     "metadata": {},
     "output_type": "execute_result"
    }
   ],
   "source": [
    "tutorial_finish_df = tutorial_finish_df[tutorial_finish_df['tutorial_id'].isin(first_tutorial_ids)] #отфильтруем датафрейм  и перезапишем\n",
    "# ставив в нём только события для таких обучений, которые были первыми для пользователя\n",
    "tutorial_finish_df['user_id'].value_counts().mean()"
   ]
  },
  {
   "cell_type": "code",
   "execution_count": 48,
   "metadata": {},
   "outputs": [],
   "source": [
    "tutorial_finish_df = tutorial_finish_df[['user_id','start_time']].rename(columns={'start_time':'tutorial_finish_time'})\n",
    "# оставим только необходимые столбцы\n",
    "merged_df_2 = tutorial_start_df_wo_duplicates.merge(tutorial_finish_df,on='user_id',how='inner')\n",
    "# объединим df с началом и концом обучения\n",
    "merged_df_2['tutorial_finish_time'] = pd.to_datetime(merged_df_2['tutorial_finish_time'],yearfirst=True)\n",
    "merged_df_2['tutorial_start_time'] = pd.to_datetime(merged_df_2['tutorial_start_time'],yearfirst=True)\n",
    "# найдем дельту промежутка начала и конца обучения\n",
    "merged_df_2['timedelta'] = merged_df_2['tutorial_finish_time'] - merged_df_2['tutorial_start_time'] \n",
    "\n",
    "\n"
   ]
  },
  {
   "cell_type": "code",
   "execution_count": 49,
   "metadata": {},
   "outputs": [
    {
     "data": {
      "text/html": [
       "<div>\n",
       "<style scoped>\n",
       "    .dataframe tbody tr th:only-of-type {\n",
       "        vertical-align: middle;\n",
       "    }\n",
       "\n",
       "    .dataframe tbody tr th {\n",
       "        vertical-align: top;\n",
       "    }\n",
       "\n",
       "    .dataframe thead th {\n",
       "        text-align: right;\n",
       "    }\n",
       "</style>\n",
       "<table border=\"1\" class=\"dataframe\">\n",
       "  <thead>\n",
       "    <tr style=\"text-align: right;\">\n",
       "      <th></th>\n",
       "      <th>user_id</th>\n",
       "      <th>tutorial_id</th>\n",
       "      <th>tutorial_start_time</th>\n",
       "      <th>tutorial_finish_time</th>\n",
       "      <th>timedelta</th>\n",
       "    </tr>\n",
       "  </thead>\n",
       "  <tbody>\n",
       "    <tr>\n",
       "      <th>0</th>\n",
       "      <td>27835</td>\n",
       "      <td>31506.0</td>\n",
       "      <td>2018-01-01 15:00:51</td>\n",
       "      <td>2018-01-01 15:06:15</td>\n",
       "      <td>0 days 00:05:24</td>\n",
       "    </tr>\n",
       "    <tr>\n",
       "      <th>1</th>\n",
       "      <td>27833</td>\n",
       "      <td>31508.0</td>\n",
       "      <td>2018-01-01 17:47:40</td>\n",
       "      <td>2018-01-01 17:50:08</td>\n",
       "      <td>0 days 00:02:28</td>\n",
       "    </tr>\n",
       "    <tr>\n",
       "      <th>2</th>\n",
       "      <td>27839</td>\n",
       "      <td>31509.0</td>\n",
       "      <td>2018-01-01 19:11:36</td>\n",
       "      <td>2018-01-01 19:16:32</td>\n",
       "      <td>0 days 00:04:56</td>\n",
       "    </tr>\n",
       "    <tr>\n",
       "      <th>3</th>\n",
       "      <td>27834</td>\n",
       "      <td>31510.0</td>\n",
       "      <td>2018-01-01 19:46:11</td>\n",
       "      <td>2018-01-01 19:48:01</td>\n",
       "      <td>0 days 00:01:50</td>\n",
       "    </tr>\n",
       "    <tr>\n",
       "      <th>4</th>\n",
       "      <td>27845</td>\n",
       "      <td>31512.0</td>\n",
       "      <td>2018-01-02 03:03:44</td>\n",
       "      <td>2018-01-02 03:06:48</td>\n",
       "      <td>0 days 00:03:04</td>\n",
       "    </tr>\n",
       "  </tbody>\n",
       "</table>\n",
       "</div>"
      ],
      "text/plain": [
       "   user_id  tutorial_id tutorial_start_time tutorial_finish_time  \\\n",
       "0    27835      31506.0 2018-01-01 15:00:51  2018-01-01 15:06:15   \n",
       "1    27833      31508.0 2018-01-01 17:47:40  2018-01-01 17:50:08   \n",
       "2    27839      31509.0 2018-01-01 19:11:36  2018-01-01 19:16:32   \n",
       "3    27834      31510.0 2018-01-01 19:46:11  2018-01-01 19:48:01   \n",
       "4    27845      31512.0 2018-01-02 03:03:44  2018-01-02 03:06:48   \n",
       "\n",
       "        timedelta  \n",
       "0 0 days 00:05:24  \n",
       "1 0 days 00:02:28  \n",
       "2 0 days 00:04:56  \n",
       "3 0 days 00:01:50  \n",
       "4 0 days 00:03:04  "
      ]
     },
     "metadata": {},
     "output_type": "display_data"
    },
    {
     "name": "stdout",
     "output_type": "stream",
     "text": [
      "0 days 00:03:53.174160732\n",
      "count                         9830\n",
      "mean     0 days 00:03:53.174160732\n",
      "std      0 days 00:01:44.803217992\n",
      "min                0 days 00:00:16\n",
      "25%                0 days 00:02:28\n",
      "50%                0 days 00:03:42\n",
      "75%                0 days 00:05:08\n",
      "max                0 days 00:10:06\n",
      "Name: timedelta, dtype: object\n"
     ]
    }
   ],
   "source": [
    "display(merged_df_2.head())\n",
    "print(merged_df_2['timedelta'].mean())\n",
    "print(merged_df_2['timedelta'].describe())"
   ]
  },
  {
   "cell_type": "markdown",
   "metadata": {},
   "source": [
    " Определяем время между registration и level_choice"
   ]
  },
  {
   "cell_type": "code",
   "execution_count": 50,
   "metadata": {},
   "outputs": [
    {
     "name": "stdout",
     "output_type": "stream",
     "text": [
      "1.0\n"
     ]
    },
    {
     "data": {
      "text/html": [
       "<div>\n",
       "<style scoped>\n",
       "    .dataframe tbody tr th:only-of-type {\n",
       "        vertical-align: middle;\n",
       "    }\n",
       "\n",
       "    .dataframe tbody tr th {\n",
       "        vertical-align: top;\n",
       "    }\n",
       "\n",
       "    .dataframe thead th {\n",
       "        text-align: right;\n",
       "    }\n",
       "</style>\n",
       "<table border=\"1\" class=\"dataframe\">\n",
       "  <thead>\n",
       "    <tr style=\"text-align: right;\">\n",
       "      <th></th>\n",
       "      <th>user_id</th>\n",
       "      <th>level_choice_time</th>\n",
       "      <th>registration_time</th>\n",
       "    </tr>\n",
       "  </thead>\n",
       "  <tbody>\n",
       "    <tr>\n",
       "      <th>0</th>\n",
       "      <td>27835</td>\n",
       "      <td>2018-01-01T20:37:22</td>\n",
       "      <td>2018-01-01T11:54:47</td>\n",
       "    </tr>\n",
       "    <tr>\n",
       "      <th>1</th>\n",
       "      <td>27839</td>\n",
       "      <td>2018-01-01T22:37:50</td>\n",
       "      <td>2018-01-01T18:24:01</td>\n",
       "    </tr>\n",
       "    <tr>\n",
       "      <th>2</th>\n",
       "      <td>27840</td>\n",
       "      <td>2018-01-02T05:18:42</td>\n",
       "      <td>2018-01-01T20:53:21</td>\n",
       "    </tr>\n",
       "    <tr>\n",
       "      <th>3</th>\n",
       "      <td>27845</td>\n",
       "      <td>2018-01-02T06:19:18</td>\n",
       "      <td>2018-01-02T01:35:56</td>\n",
       "    </tr>\n",
       "    <tr>\n",
       "      <th>4</th>\n",
       "      <td>27842</td>\n",
       "      <td>2018-01-02T08:46:03</td>\n",
       "      <td>2018-01-01T23:18:46</td>\n",
       "    </tr>\n",
       "  </tbody>\n",
       "</table>\n",
       "</div>"
      ],
      "text/plain": [
       "   user_id    level_choice_time    registration_time\n",
       "0    27835  2018-01-01T20:37:22  2018-01-01T11:54:47\n",
       "1    27839  2018-01-01T22:37:50  2018-01-01T18:24:01\n",
       "2    27840  2018-01-02T05:18:42  2018-01-01T20:53:21\n",
       "3    27845  2018-01-02T06:19:18  2018-01-02T01:35:56\n",
       "4    27842  2018-01-02T08:46:03  2018-01-01T23:18:46"
      ]
     },
     "metadata": {},
     "output_type": "display_data"
    }
   ],
   "source": [
    "level_choise_df = total_events[total_events['event_type']=='level_choice']\n",
    "print(level_choise_df['user_id'].value_counts().mean())\n",
    "# выберем необходимые столбц и переименуем\n",
    "level_choise_df = level_choise_df[['user_id','start_time']\n",
    "].rename(columns={'start_time':'level_choice_time'})\n",
    "# присоедним таблицы \n",
    "merged_df_3 = level_choise_df.merge(registration_df,on='user_id',how='inner')\n",
    "display(merged_df_3.head())\n",
    "\n",
    "\n"
   ]
  },
  {
   "cell_type": "code",
   "execution_count": 51,
   "metadata": {},
   "outputs": [],
   "source": [
    "merged_df_3['level_choice_time'] = pd.to_datetime(merged_df_3['level_choice_time'],yearfirst=True)\n",
    "merged_df_3['registration_time'] = pd.to_datetime(merged_df_3['registration_time'],yearfirst=True)\n"
   ]
  },
  {
   "cell_type": "code",
   "execution_count": 52,
   "metadata": {},
   "outputs": [
    {
     "name": "stdout",
     "output_type": "stream",
     "text": [
      "0 days 07:10:19.169863342\n",
      "count                         8342\n",
      "mean     0 days 07:10:19.169863342\n",
      "std      0 days 04:33:51.164488800\n",
      "min                0 days 00:08:15\n",
      "25%         0 days 03:53:16.500000\n",
      "50%                0 days 06:03:28\n",
      "75%         0 days 09:34:58.500000\n",
      "max                1 days 18:48:25\n",
      "Name: timedelta, dtype: object\n"
     ]
    }
   ],
   "source": [
    "#  найдм временной промежуток между регистрацией и выбором сложности\n",
    "merged_df_3['timedelta'] = merged_df_3['level_choice_time'] - merged_df_3['registration_time']\n",
    "print(merged_df_3['timedelta'].mean())\n",
    "print(merged_df_3['timedelta'].describe())"
   ]
  },
  {
   "cell_type": "markdown",
   "metadata": {},
   "source": [
    "Сколько в среднем для всех пользователей проходит времени между событием выбора уровня сложности тренировки до события выбора набора бесплатных вопросов?"
   ]
  },
  {
   "cell_type": "code",
   "execution_count": 53,
   "metadata": {},
   "outputs": [
    {
     "data": {
      "text/html": [
       "<div>\n",
       "<style scoped>\n",
       "    .dataframe tbody tr th:only-of-type {\n",
       "        vertical-align: middle;\n",
       "    }\n",
       "\n",
       "    .dataframe tbody tr th {\n",
       "        vertical-align: top;\n",
       "    }\n",
       "\n",
       "    .dataframe thead th {\n",
       "        text-align: right;\n",
       "    }\n",
       "</style>\n",
       "<table border=\"1\" class=\"dataframe\">\n",
       "  <thead>\n",
       "    <tr style=\"text-align: right;\">\n",
       "      <th></th>\n",
       "      <th>event_id</th>\n",
       "      <th>event_type</th>\n",
       "      <th>selected_level</th>\n",
       "      <th>start_time</th>\n",
       "      <th>tutorial_id</th>\n",
       "      <th>user_id</th>\n",
       "      <th>purchase_id</th>\n",
       "      <th>amount</th>\n",
       "    </tr>\n",
       "  </thead>\n",
       "  <tbody>\n",
       "    <tr>\n",
       "      <th>20</th>\n",
       "      <td>80328.0</td>\n",
       "      <td>pack_choice</td>\n",
       "      <td>NaN</td>\n",
       "      <td>2018-01-01T20:38:43</td>\n",
       "      <td>NaN</td>\n",
       "      <td>27835</td>\n",
       "      <td>NaN</td>\n",
       "      <td>NaN</td>\n",
       "    </tr>\n",
       "    <tr>\n",
       "      <th>24</th>\n",
       "      <td>80332.0</td>\n",
       "      <td>pack_choice</td>\n",
       "      <td>NaN</td>\n",
       "      <td>2018-01-01T22:42:54</td>\n",
       "      <td>NaN</td>\n",
       "      <td>27839</td>\n",
       "      <td>NaN</td>\n",
       "      <td>NaN</td>\n",
       "    </tr>\n",
       "    <tr>\n",
       "      <th>39</th>\n",
       "      <td>80347.0</td>\n",
       "      <td>pack_choice</td>\n",
       "      <td>NaN</td>\n",
       "      <td>2018-01-02T06:25:12</td>\n",
       "      <td>NaN</td>\n",
       "      <td>27845</td>\n",
       "      <td>NaN</td>\n",
       "      <td>NaN</td>\n",
       "    </tr>\n",
       "    <tr>\n",
       "      <th>53</th>\n",
       "      <td>80361.0</td>\n",
       "      <td>pack_choice</td>\n",
       "      <td>NaN</td>\n",
       "      <td>2018-01-02T11:59:26</td>\n",
       "      <td>NaN</td>\n",
       "      <td>27849</td>\n",
       "      <td>NaN</td>\n",
       "      <td>NaN</td>\n",
       "    </tr>\n",
       "    <tr>\n",
       "      <th>58</th>\n",
       "      <td>80366.0</td>\n",
       "      <td>pack_choice</td>\n",
       "      <td>NaN</td>\n",
       "      <td>2018-01-02T14:14:51</td>\n",
       "      <td>NaN</td>\n",
       "      <td>27843</td>\n",
       "      <td>NaN</td>\n",
       "      <td>NaN</td>\n",
       "    </tr>\n",
       "  </tbody>\n",
       "</table>\n",
       "</div>"
      ],
      "text/plain": [
       "    event_id   event_type selected_level           start_time  tutorial_id  \\\n",
       "20   80328.0  pack_choice            NaN  2018-01-01T20:38:43          NaN   \n",
       "24   80332.0  pack_choice            NaN  2018-01-01T22:42:54          NaN   \n",
       "39   80347.0  pack_choice            NaN  2018-01-02T06:25:12          NaN   \n",
       "53   80361.0  pack_choice            NaN  2018-01-02T11:59:26          NaN   \n",
       "58   80366.0  pack_choice            NaN  2018-01-02T14:14:51          NaN   \n",
       "\n",
       "    user_id  purchase_id  amount  \n",
       "20    27835          NaN     NaN  \n",
       "24    27839          NaN     NaN  \n",
       "39    27845          NaN     NaN  \n",
       "53    27849          NaN     NaN  \n",
       "58    27843          NaN     NaN  "
      ]
     },
     "execution_count": 53,
     "metadata": {},
     "output_type": "execute_result"
    }
   ],
   "source": [
    "pack_choice_df = total_events[total_events['event_type']=='pack_choice']\n",
    "pack_choice_df.head()"
   ]
  },
  {
   "cell_type": "code",
   "execution_count": 54,
   "metadata": {},
   "outputs": [
    {
     "data": {
      "text/plain": [
       "1.0"
      ]
     },
     "execution_count": 54,
     "metadata": {},
     "output_type": "execute_result"
    }
   ],
   "source": [
    "pack_choice_df['user_id'].value_counts().mean()"
   ]
  },
  {
   "cell_type": "code",
   "execution_count": 55,
   "metadata": {},
   "outputs": [],
   "source": [
    "pack_choice_df = pack_choice_df[['user_id','start_time']].rename(columns={'start_time':'pack_choice_time'})"
   ]
  },
  {
   "cell_type": "code",
   "execution_count": 56,
   "metadata": {},
   "outputs": [
    {
     "data": {
      "text/html": [
       "<div>\n",
       "<style scoped>\n",
       "    .dataframe tbody tr th:only-of-type {\n",
       "        vertical-align: middle;\n",
       "    }\n",
       "\n",
       "    .dataframe tbody tr th {\n",
       "        vertical-align: top;\n",
       "    }\n",
       "\n",
       "    .dataframe thead th {\n",
       "        text-align: right;\n",
       "    }\n",
       "</style>\n",
       "<table border=\"1\" class=\"dataframe\">\n",
       "  <thead>\n",
       "    <tr style=\"text-align: right;\">\n",
       "      <th></th>\n",
       "      <th>user_id</th>\n",
       "      <th>level_choice_time</th>\n",
       "      <th>pack_choice_time</th>\n",
       "    </tr>\n",
       "  </thead>\n",
       "  <tbody>\n",
       "    <tr>\n",
       "      <th>0</th>\n",
       "      <td>27835</td>\n",
       "      <td>2018-01-01T20:37:22</td>\n",
       "      <td>2018-01-01T20:38:43</td>\n",
       "    </tr>\n",
       "    <tr>\n",
       "      <th>1</th>\n",
       "      <td>27839</td>\n",
       "      <td>2018-01-01T22:37:50</td>\n",
       "      <td>2018-01-01T22:42:54</td>\n",
       "    </tr>\n",
       "    <tr>\n",
       "      <th>2</th>\n",
       "      <td>27845</td>\n",
       "      <td>2018-01-02T06:19:18</td>\n",
       "      <td>2018-01-02T06:25:12</td>\n",
       "    </tr>\n",
       "    <tr>\n",
       "      <th>3</th>\n",
       "      <td>27849</td>\n",
       "      <td>2018-01-02T11:53:11</td>\n",
       "      <td>2018-01-02T11:59:26</td>\n",
       "    </tr>\n",
       "    <tr>\n",
       "      <th>4</th>\n",
       "      <td>27843</td>\n",
       "      <td>2018-01-02T14:09:58</td>\n",
       "      <td>2018-01-02T14:14:51</td>\n",
       "    </tr>\n",
       "  </tbody>\n",
       "</table>\n",
       "</div>"
      ],
      "text/plain": [
       "   user_id    level_choice_time     pack_choice_time\n",
       "0    27835  2018-01-01T20:37:22  2018-01-01T20:38:43\n",
       "1    27839  2018-01-01T22:37:50  2018-01-01T22:42:54\n",
       "2    27845  2018-01-02T06:19:18  2018-01-02T06:25:12\n",
       "3    27849  2018-01-02T11:53:11  2018-01-02T11:59:26\n",
       "4    27843  2018-01-02T14:09:58  2018-01-02T14:14:51"
      ]
     },
     "metadata": {},
     "output_type": "display_data"
    },
    {
     "name": "stdout",
     "output_type": "stream",
     "text": [
      "1.0\n"
     ]
    }
   ],
   "source": [
    "merged_df_4 = level_choise_df.merge(pack_choice_df,on='user_id',how='inner')\n",
    "display(merged_df_4.head())\n",
    "print(merged_df_4['user_id'].value_counts().mean())\n",
    "merged_df_4['level_choice_time'] = pd.to_datetime(merged_df_4['level_choice_time'],yearfirst=True)\n",
    "merged_df_4['pack_choice_time'] = pd.to_datetime(merged_df_4['pack_choice_time'],yearfirst=True)\n"
   ]
  },
  {
   "cell_type": "code",
   "execution_count": 57,
   "metadata": {},
   "outputs": [
    {
     "name": "stdout",
     "output_type": "stream",
     "text": [
      "0 days 00:05:17.128464354\n",
      "count                         5737\n",
      "mean     0 days 00:05:17.128464354\n",
      "std      0 days 00:02:43.923107804\n",
      "min                0 days 00:00:19\n",
      "25%                0 days 00:03:05\n",
      "50%                0 days 00:04:57\n",
      "75%                0 days 00:07:08\n",
      "max                0 days 00:15:48\n",
      "Name: timedelta, dtype: object\n"
     ]
    }
   ],
   "source": [
    "merged_df_4['timedelta'] = merged_df_4['pack_choice_time'] - merged_df_4['level_choice_time']\n",
    "print(merged_df_4['timedelta'].mean())\n",
    "print(merged_df_4['timedelta'].describe())"
   ]
  },
  {
   "cell_type": "markdown",
   "metadata": {},
   "source": [
    "Сколько в среднем для всех пользователей проходит времени между событием выбора бесплатных вопросов и первой оплатой?"
   ]
  },
  {
   "cell_type": "code",
   "execution_count": 58,
   "metadata": {},
   "outputs": [
    {
     "data": {
      "text/html": [
       "<div>\n",
       "<style scoped>\n",
       "    .dataframe tbody tr th:only-of-type {\n",
       "        vertical-align: middle;\n",
       "    }\n",
       "\n",
       "    .dataframe tbody tr th {\n",
       "        vertical-align: top;\n",
       "    }\n",
       "\n",
       "    .dataframe thead th {\n",
       "        text-align: right;\n",
       "    }\n",
       "</style>\n",
       "<table border=\"1\" class=\"dataframe\">\n",
       "  <thead>\n",
       "    <tr style=\"text-align: right;\">\n",
       "      <th></th>\n",
       "      <th>event_id</th>\n",
       "      <th>event_type</th>\n",
       "      <th>selected_level</th>\n",
       "      <th>start_time</th>\n",
       "      <th>tutorial_id</th>\n",
       "      <th>user_id</th>\n",
       "      <th>purchase_id</th>\n",
       "      <th>amount</th>\n",
       "    </tr>\n",
       "  </thead>\n",
       "  <tbody>\n",
       "    <tr>\n",
       "      <th>66959</th>\n",
       "      <td>NaN</td>\n",
       "      <td>purchase</td>\n",
       "      <td>NaN</td>\n",
       "      <td>2018-01-03T18:53:43</td>\n",
       "      <td>NaN</td>\n",
       "      <td>27845</td>\n",
       "      <td>16845.0</td>\n",
       "      <td>100.0</td>\n",
       "    </tr>\n",
       "    <tr>\n",
       "      <th>66960</th>\n",
       "      <td>NaN</td>\n",
       "      <td>purchase</td>\n",
       "      <td>NaN</td>\n",
       "      <td>2018-01-04T14:46:10</td>\n",
       "      <td>NaN</td>\n",
       "      <td>27865</td>\n",
       "      <td>16846.0</td>\n",
       "      <td>250.0</td>\n",
       "    </tr>\n",
       "    <tr>\n",
       "      <th>66961</th>\n",
       "      <td>NaN</td>\n",
       "      <td>purchase</td>\n",
       "      <td>NaN</td>\n",
       "      <td>2018-01-07T08:19:12</td>\n",
       "      <td>NaN</td>\n",
       "      <td>27911</td>\n",
       "      <td>16848.0</td>\n",
       "      <td>50.0</td>\n",
       "    </tr>\n",
       "    <tr>\n",
       "      <th>66962</th>\n",
       "      <td>NaN</td>\n",
       "      <td>purchase</td>\n",
       "      <td>NaN</td>\n",
       "      <td>2018-01-07T12:11:34</td>\n",
       "      <td>NaN</td>\n",
       "      <td>27910</td>\n",
       "      <td>16849.0</td>\n",
       "      <td>100.0</td>\n",
       "    </tr>\n",
       "    <tr>\n",
       "      <th>66963</th>\n",
       "      <td>NaN</td>\n",
       "      <td>purchase</td>\n",
       "      <td>NaN</td>\n",
       "      <td>2018-01-07T13:16:41</td>\n",
       "      <td>NaN</td>\n",
       "      <td>27940</td>\n",
       "      <td>16850.0</td>\n",
       "      <td>200.0</td>\n",
       "    </tr>\n",
       "  </tbody>\n",
       "</table>\n",
       "</div>"
      ],
      "text/plain": [
       "       event_id event_type selected_level           start_time  tutorial_id  \\\n",
       "66959       NaN   purchase            NaN  2018-01-03T18:53:43          NaN   \n",
       "66960       NaN   purchase            NaN  2018-01-04T14:46:10          NaN   \n",
       "66961       NaN   purchase            NaN  2018-01-07T08:19:12          NaN   \n",
       "66962       NaN   purchase            NaN  2018-01-07T12:11:34          NaN   \n",
       "66963       NaN   purchase            NaN  2018-01-07T13:16:41          NaN   \n",
       "\n",
       "       user_id  purchase_id  amount  \n",
       "66959    27845      16845.0   100.0  \n",
       "66960    27865      16846.0   250.0  \n",
       "66961    27911      16848.0    50.0  \n",
       "66962    27910      16849.0   100.0  \n",
       "66963    27940      16850.0   200.0  "
      ]
     },
     "execution_count": 58,
     "metadata": {},
     "output_type": "execute_result"
    }
   ],
   "source": [
    "purchase_time_df = total_events[total_events['event_type']=='purchase']\n",
    "purchase_time_df.head()\n"
   ]
  },
  {
   "cell_type": "code",
   "execution_count": 59,
   "metadata": {},
   "outputs": [
    {
     "data": {
      "text/plain": [
       "1.0"
      ]
     },
     "execution_count": 59,
     "metadata": {},
     "output_type": "execute_result"
    }
   ],
   "source": [
    "purchase_time_df['user_id'].value_counts().mean()"
   ]
  },
  {
   "cell_type": "code",
   "execution_count": 60,
   "metadata": {},
   "outputs": [],
   "source": [
    "purchase_time_df = purchase_time_df[['user_id','start_time']].rename(columns={'start_time':'purchase_time'})"
   ]
  },
  {
   "cell_type": "code",
   "execution_count": 61,
   "metadata": {},
   "outputs": [
    {
     "data": {
      "text/html": [
       "<div>\n",
       "<style scoped>\n",
       "    .dataframe tbody tr th:only-of-type {\n",
       "        vertical-align: middle;\n",
       "    }\n",
       "\n",
       "    .dataframe tbody tr th {\n",
       "        vertical-align: top;\n",
       "    }\n",
       "\n",
       "    .dataframe thead th {\n",
       "        text-align: right;\n",
       "    }\n",
       "</style>\n",
       "<table border=\"1\" class=\"dataframe\">\n",
       "  <thead>\n",
       "    <tr style=\"text-align: right;\">\n",
       "      <th></th>\n",
       "      <th>user_id</th>\n",
       "      <th>pack_choice_time</th>\n",
       "      <th>purchase_time</th>\n",
       "    </tr>\n",
       "  </thead>\n",
       "  <tbody>\n",
       "    <tr>\n",
       "      <th>0</th>\n",
       "      <td>27845</td>\n",
       "      <td>2018-01-02T06:25:12</td>\n",
       "      <td>2018-01-03T18:53:43</td>\n",
       "    </tr>\n",
       "    <tr>\n",
       "      <th>1</th>\n",
       "      <td>27865</td>\n",
       "      <td>2018-01-04T06:03:20</td>\n",
       "      <td>2018-01-04T14:46:10</td>\n",
       "    </tr>\n",
       "    <tr>\n",
       "      <th>2</th>\n",
       "      <td>27884</td>\n",
       "      <td>2018-01-04T16:22:03</td>\n",
       "      <td>2018-01-08T19:37:34</td>\n",
       "    </tr>\n",
       "    <tr>\n",
       "      <th>3</th>\n",
       "      <td>27910</td>\n",
       "      <td>2018-01-05T12:05:28</td>\n",
       "      <td>2018-01-07T12:11:34</td>\n",
       "    </tr>\n",
       "    <tr>\n",
       "      <th>4</th>\n",
       "      <td>27911</td>\n",
       "      <td>2018-01-05T17:40:37</td>\n",
       "      <td>2018-01-07T08:19:12</td>\n",
       "    </tr>\n",
       "  </tbody>\n",
       "</table>\n",
       "</div>"
      ],
      "text/plain": [
       "   user_id     pack_choice_time        purchase_time\n",
       "0    27845  2018-01-02T06:25:12  2018-01-03T18:53:43\n",
       "1    27865  2018-01-04T06:03:20  2018-01-04T14:46:10\n",
       "2    27884  2018-01-04T16:22:03  2018-01-08T19:37:34\n",
       "3    27910  2018-01-05T12:05:28  2018-01-07T12:11:34\n",
       "4    27911  2018-01-05T17:40:37  2018-01-07T08:19:12"
      ]
     },
     "metadata": {},
     "output_type": "display_data"
    },
    {
     "name": "stdout",
     "output_type": "stream",
     "text": [
      "1.0\n",
      "3 days 17:46:53.403125\n",
      "count                         1600\n",
      "mean        3 days 17:46:53.403125\n",
      "std      2 days 04:37:20.225124289\n",
      "min                0 days 00:44:50\n",
      "25%         1 days 21:24:13.250000\n",
      "50%         3 days 12:51:25.500000\n",
      "75%         5 days 09:42:13.750000\n",
      "max               10 days 18:33:59\n",
      "Name: timedelta, dtype: object\n"
     ]
    }
   ],
   "source": [
    "merged_df_5 = pack_choice_df.merge(purchase_time_df,on='user_id',how='inner')\n",
    "display(merged_df_5.head())\n",
    "print(merged_df_5['user_id'].value_counts().mean())\n",
    "merged_df_5['purchase_time'] = pd.to_datetime(merged_df_5['purchase_time'],yearfirst=True)\n",
    "merged_df_5['pack_choice_time'] = pd.to_datetime(merged_df_5['pack_choice_time'],yearfirst=True)\n",
    "merged_df_5['timedelta'] = merged_df_5['purchase_time'] - merged_df_5['pack_choice_time']\n",
    "print(merged_df_5['timedelta'].mean())\n",
    "print(merged_df_5['timedelta'].describe())"
   ]
  },
  {
   "cell_type": "markdown",
   "metadata": {},
   "source": [
    "Проверка аналитической гипотезы.\n",
    "Определим, существует ли различие в частоте и средней величине оплат между тремя группами пользователей"
   ]
  },
  {
   "cell_type": "code",
   "execution_count": 62,
   "metadata": {},
   "outputs": [
    {
     "name": "stdout",
     "output_type": "stream",
     "text": [
      "10250\n"
     ]
    }
   ],
   "source": [
    "users_with_finished_tutorial = total_events[total_events['event_type']=='tutorial_finish']['user_id'].unique()\n",
    "print(len(users_with_finished_tutorial)) # пользователи закончившие обучение хотя бы 1 раз"
   ]
  },
  {
   "cell_type": "code",
   "execution_count": 63,
   "metadata": {},
   "outputs": [
    {
     "name": "stdout",
     "output_type": "stream",
     "text": [
      "11858\n",
      "1608\n",
      "True\n"
     ]
    }
   ],
   "source": [
    "users_with_started_tutorial = total_events[total_events['event_type']=='tutorial_start']['user_id'].unique()\n",
    "set_users_with_started_tutorial = set(users_with_started_tutorial)\n",
    "set_users_not_finished_but_started_tutorial = set_users_with_started_tutorial.difference(set(users_with_finished_tutorial))\n",
    "print(len(set_users_with_started_tutorial))\n",
    "print(len(set_users_not_finished_but_started_tutorial))\n",
    "print(len(set_users_with_started_tutorial)-len(set(users_with_finished_tutorial))==len(\n",
    "    set_users_not_finished_but_started_tutorial))\n",
    "# пользователи начавшие, но не закончившие обучение"
   ]
  },
  {
   "cell_type": "code",
   "execution_count": 64,
   "metadata": {},
   "outputs": [
    {
     "name": "stdout",
     "output_type": "stream",
     "text": [
      "8068\n"
     ]
    }
   ],
   "source": [
    "all_users = total_events['user_id'].unique()\n",
    "set_all_users = set(all_users)\n",
    "set_users_not_started_tutorial = set_all_users.difference(set_users_with_started_tutorial)\n",
    "print(len(set_users_not_started_tutorial))"
   ]
  },
  {
   "cell_type": "code",
   "execution_count": 65,
   "metadata": {},
   "outputs": [
    {
     "data": {
      "text/plain": [
       "True"
      ]
     },
     "execution_count": 65,
     "metadata": {},
     "output_type": "execute_result"
    }
   ],
   "source": [
    "len(set_users_not_finished_but_started_tutorial) + len(set_users_not_started_tutorial)\\\n",
    "    + len(set(users_with_finished_tutorial))==len(set_all_users)"
   ]
  },
  {
   "cell_type": "markdown",
   "metadata": {},
   "source": [
    "Считаем пользователей, которые завершили обучение и совершили оплату"
   ]
  },
  {
   "cell_type": "code",
   "execution_count": 66,
   "metadata": {},
   "outputs": [
    {
     "data": {
      "text/plain": [
       "1447"
      ]
     },
     "execution_count": 66,
     "metadata": {},
     "output_type": "execute_result"
    }
   ],
   "source": [
    "purchase_finished_tutorial = purchase_registred[purchase_registred['user_id'].isin(users_with_finished_tutorial)]\n",
    "purchase_finished_tutorial['user_id'].nunique() # кол-во пользователей закончивших обучение и оплативших"
   ]
  },
  {
   "cell_type": "code",
   "execution_count": 67,
   "metadata": {},
   "outputs": [
    {
     "name": "stdout",
     "output_type": "stream",
     "text": [
      "Процент пользователей, которые оплатили тренировки (от числа пользователей, завершивших обучение):    14.12%\n"
     ]
    }
   ],
   "source": [
    "percent_of_purchase_1 = purchase_finished_tutorial['user_id'].nunique() / len(users_with_finished_tutorial)\n",
    "print(f'Процент пользователей, которые оплатили тренировки (от числа пользователей, завершивших обучение):\\\n",
    "    {percent_of_purchase_1:.2%}')"
   ]
  },
  {
   "cell_type": "code",
   "execution_count": 68,
   "metadata": {},
   "outputs": [
    {
     "data": {
      "text/plain": [
       "110.98825155494126"
      ]
     },
     "execution_count": 68,
     "metadata": {},
     "output_type": "execute_result"
    }
   ],
   "source": [
    "purchase_finished_tutorial['amount'].mean()"
   ]
  },
  {
   "cell_type": "code",
   "execution_count": 69,
   "metadata": {},
   "outputs": [
    {
     "name": "stdout",
     "output_type": "stream",
     "text": [
      "131\n",
      "\"Процент пользователей, которые оплатили тренировки (от числа пользователей, начавших обучение, но не завершивших):    8.15%\n"
     ]
    }
   ],
   "source": [
    "purchase_started_not_finished_tutorial = \\\n",
    "    purchase_registred[purchase_registred['user_id'].isin(set_users_not_finished_but_started_tutorial)]\n",
    "print(purchase_started_not_finished_tutorial['user_id'].nunique())\n",
    "percent_of_purchase_2 = purchase_started_not_finished_tutorial['user_id'].nunique() / len(set_users_not_finished_but_started_tutorial)\n",
    "print(f'\"Процент пользователей, которые оплатили тренировки (от числа пользователей, начавших обучение, но не завершивших):\\\n",
    "    {percent_of_purchase_2:.2%}')"
   ]
  },
  {
   "cell_type": "code",
   "execution_count": 70,
   "metadata": {},
   "outputs": [
    {
     "data": {
      "text/plain": [
       "104.9618320610687"
      ]
     },
     "execution_count": 70,
     "metadata": {},
     "output_type": "execute_result"
    }
   ],
   "source": [
    "purchase_started_not_finished_tutorial['amount'].mean()"
   ]
  },
  {
   "cell_type": "code",
   "execution_count": 71,
   "metadata": {},
   "outputs": [
    {
     "name": "stdout",
     "output_type": "stream",
     "text": [
      "22\n",
      "\"Процент пользователей, которые оплатили тренировки (от числа пользователей, не начавших обучение):    0.27%\n"
     ]
    }
   ],
   "source": [
    "purchase_not_started_tutorial = \\\n",
    "    purchase_registred[purchase_registred['user_id'].isin(set_users_not_started_tutorial)]\n",
    "print(purchase_not_started_tutorial['user_id'].nunique()) \n",
    "percent_of_purchase_3 = purchase_not_started_tutorial['user_id'].nunique() / len(set_users_not_started_tutorial)\n",
    "print(f'\"Процент пользователей, которые оплатили тренировки (от числа пользователей, не начавших обучение):\\\n",
    "    {percent_of_purchase_3:.2%}')\n"
   ]
  },
  {
   "cell_type": "code",
   "execution_count": 72,
   "metadata": {},
   "outputs": [
    {
     "data": {
      "text/plain": [
       "128.4090909090909"
      ]
     },
     "execution_count": 72,
     "metadata": {},
     "output_type": "execute_result"
    }
   ],
   "source": [
    "purchase_not_started_tutorial['amount'].mean()"
   ]
  },
  {
   "cell_type": "markdown",
   "metadata": {},
   "source": [
    "Как мы видим, процент пользователей, которые завершили обучение и совершили оплату, выше, чем процент пользователей, которые не начали обучение или не закончили его."
   ]
  },
  {
   "cell_type": "markdown",
   "metadata": {},
   "source": [
    "Это говорит о том, что факт прохождения обучения влияет на дальнейшую мотивацию использовать приложение. Существенной разницы в среднем чеке при этом не наблюдается, то есть обучение увеличивает вовлечённость, но выбор количества платных пакетов зависит индивидуально от пользователя"
   ]
  },
  {
   "cell_type": "code",
   "execution_count": null,
   "metadata": {},
   "outputs": [],
   "source": []
  }
 ],
 "metadata": {
  "interpreter": {
   "hash": "dcacb0086e9a4f4eabd41c33bf4faac5ea0a3337ed3f5eff0680afa930572c04"
  },
  "kernelspec": {
   "display_name": "Python 3.9.10 64-bit",
   "language": "python",
   "name": "python3"
  },
  "language_info": {
   "codemirror_mode": {
    "name": "ipython",
    "version": 3
   },
   "file_extension": ".py",
   "mimetype": "text/x-python",
   "name": "python",
   "nbconvert_exporter": "python",
   "pygments_lexer": "ipython3",
   "version": "3.9.10"
  },
  "orig_nbformat": 4
 },
 "nbformat": 4,
 "nbformat_minor": 2
}
