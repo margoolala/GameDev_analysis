{
 "cells": [
  {
   "cell_type": "markdown",
   "metadata": {},
   "source": [
    "# Анализ функциональности"
   ]
  },
  {
   "cell_type": "markdown",
   "metadata": {},
   "source": [
    "**Цель: исследовать поведение пользователей в обновленном приложении.**"
   ]
  },
  {
   "cell_type": "markdown",
   "metadata": {},
   "source": [
    "### **Задачи:** \n",
    "- Понять, как пользователи взаимодействуют с продуктом, и соотнести идеальный путь пользователей с фактическим.\n",
    "- Выявить этапы, которые занимают больше всего времени, с тем чтобы поработать над их улучшением.\n",
    "- Проанализировать зависимость оплат от прохождения обучения."
   ]
  },
  {
   "cell_type": "markdown",
   "metadata": {},
   "source": [
    "### **Формализованные задачи:** \n",
    "- 1.Определить самые распространённые пути прохождения (последовательности) этапов в приложении.\n",
    "- 2.Посмотреть на среднее время между различными этапами и выделить самые большие временные промежутки.\n",
    "- 3.Определить, существует ли различие в частоте и средней величине оплат между тремя группами пользователей:\n",
    "   - пользователями, которые прошли обучение хотя бы раз;\n",
    "   - пользователями, которые начали обучение, но не прошли его ни разу;\n",
    "   - пользователями, которые не начинали обучение, а сразу же перешли к выбору уровня сложности."
   ]
  },
  {
   "cell_type": "code",
   "execution_count": 15,
   "metadata": {},
   "outputs": [],
   "source": [
    "import pandas as pd"
   ]
  },
  {
   "cell_type": "code",
   "execution_count": 16,
   "metadata": {},
   "outputs": [],
   "source": [
    "event = pd.read_csv('gd_quize/7_4_Events.csv',sep = ',')\n",
    "purchase = pd.read_csv('gd_quize/purchase.csv',sep = ',')"
   ]
  },
  {
   "cell_type": "code",
   "execution_count": 17,
   "metadata": {},
   "outputs": [
    {
     "data": {
      "text/html": [
       "<div>\n",
       "<style scoped>\n",
       "    .dataframe tbody tr th:only-of-type {\n",
       "        vertical-align: middle;\n",
       "    }\n",
       "\n",
       "    .dataframe tbody tr th {\n",
       "        vertical-align: top;\n",
       "    }\n",
       "\n",
       "    .dataframe thead th {\n",
       "        text-align: right;\n",
       "    }\n",
       "</style>\n",
       "<table border=\"1\" class=\"dataframe\">\n",
       "  <thead>\n",
       "    <tr style=\"text-align: right;\">\n",
       "      <th></th>\n",
       "      <th>id</th>\n",
       "      <th>event_type</th>\n",
       "      <th>selected_level</th>\n",
       "      <th>start_time</th>\n",
       "      <th>tutorial_id</th>\n",
       "      <th>user_id</th>\n",
       "    </tr>\n",
       "  </thead>\n",
       "  <tbody>\n",
       "    <tr>\n",
       "      <th>0</th>\n",
       "      <td>28903</td>\n",
       "      <td>registration</td>\n",
       "      <td>NaN</td>\n",
       "      <td>2016-05-11T23:40:55</td>\n",
       "      <td>NaN</td>\n",
       "      <td>12583</td>\n",
       "    </tr>\n",
       "    <tr>\n",
       "      <th>1</th>\n",
       "      <td>28904</td>\n",
       "      <td>registration</td>\n",
       "      <td>NaN</td>\n",
       "      <td>2016-05-11T23:49:58</td>\n",
       "      <td>NaN</td>\n",
       "      <td>12584</td>\n",
       "    </tr>\n",
       "    <tr>\n",
       "      <th>2</th>\n",
       "      <td>28905</td>\n",
       "      <td>registration</td>\n",
       "      <td>NaN</td>\n",
       "      <td>2016-05-12T00:53:07</td>\n",
       "      <td>NaN</td>\n",
       "      <td>12585</td>\n",
       "    </tr>\n",
       "    <tr>\n",
       "      <th>3</th>\n",
       "      <td>28906</td>\n",
       "      <td>tutorial_start</td>\n",
       "      <td>NaN</td>\n",
       "      <td>2016-05-12T01:32:20</td>\n",
       "      <td>17562.0</td>\n",
       "      <td>12585</td>\n",
       "    </tr>\n",
       "    <tr>\n",
       "      <th>4</th>\n",
       "      <td>28907</td>\n",
       "      <td>tutorial_finish</td>\n",
       "      <td>NaN</td>\n",
       "      <td>2016-05-12T01:34:53</td>\n",
       "      <td>17562.0</td>\n",
       "      <td>12585</td>\n",
       "    </tr>\n",
       "  </tbody>\n",
       "</table>\n",
       "</div>"
      ],
      "text/plain": [
       "      id       event_type selected_level           start_time  tutorial_id  \\\n",
       "0  28903     registration            NaN  2016-05-11T23:40:55          NaN   \n",
       "1  28904     registration            NaN  2016-05-11T23:49:58          NaN   \n",
       "2  28905     registration            NaN  2016-05-12T00:53:07          NaN   \n",
       "3  28906   tutorial_start            NaN  2016-05-12T01:32:20      17562.0   \n",
       "4  28907  tutorial_finish            NaN  2016-05-12T01:34:53      17562.0   \n",
       "\n",
       "   user_id  \n",
       "0    12583  \n",
       "1    12584  \n",
       "2    12585  \n",
       "3    12585  \n",
       "4    12585  "
      ]
     },
     "metadata": {},
     "output_type": "display_data"
    },
    {
     "data": {
      "text/html": [
       "<div>\n",
       "<style scoped>\n",
       "    .dataframe tbody tr th:only-of-type {\n",
       "        vertical-align: middle;\n",
       "    }\n",
       "\n",
       "    .dataframe tbody tr th {\n",
       "        vertical-align: top;\n",
       "    }\n",
       "\n",
       "    .dataframe thead th {\n",
       "        text-align: right;\n",
       "    }\n",
       "</style>\n",
       "<table border=\"1\" class=\"dataframe\">\n",
       "  <thead>\n",
       "    <tr style=\"text-align: right;\">\n",
       "      <th></th>\n",
       "      <th>id</th>\n",
       "      <th>user_id</th>\n",
       "      <th>event_datetime</th>\n",
       "      <th>amount</th>\n",
       "    </tr>\n",
       "  </thead>\n",
       "  <tbody>\n",
       "    <tr>\n",
       "      <th>0</th>\n",
       "      <td>15674</td>\n",
       "      <td>12584</td>\n",
       "      <td>2016-05-12T10:34:16</td>\n",
       "      <td>100</td>\n",
       "    </tr>\n",
       "    <tr>\n",
       "      <th>1</th>\n",
       "      <td>15675</td>\n",
       "      <td>12985</td>\n",
       "      <td>2016-05-13T08:25:56</td>\n",
       "      <td>50</td>\n",
       "    </tr>\n",
       "    <tr>\n",
       "      <th>2</th>\n",
       "      <td>15676</td>\n",
       "      <td>12828</td>\n",
       "      <td>2016-05-13T16:33:46</td>\n",
       "      <td>50</td>\n",
       "    </tr>\n",
       "    <tr>\n",
       "      <th>3</th>\n",
       "      <td>15677</td>\n",
       "      <td>12598</td>\n",
       "      <td>2016-05-14T01:09:37</td>\n",
       "      <td>150</td>\n",
       "    </tr>\n",
       "    <tr>\n",
       "      <th>4</th>\n",
       "      <td>15678</td>\n",
       "      <td>13037</td>\n",
       "      <td>2016-05-14T01:24:46</td>\n",
       "      <td>100</td>\n",
       "    </tr>\n",
       "  </tbody>\n",
       "</table>\n",
       "</div>"
      ],
      "text/plain": [
       "      id  user_id       event_datetime  amount\n",
       "0  15674    12584  2016-05-12T10:34:16     100\n",
       "1  15675    12985  2016-05-13T08:25:56      50\n",
       "2  15676    12828  2016-05-13T16:33:46      50\n",
       "3  15677    12598  2016-05-14T01:09:37     150\n",
       "4  15678    13037  2016-05-14T01:24:46     100"
      ]
     },
     "metadata": {},
     "output_type": "display_data"
    }
   ],
   "source": [
    "display(event.head(5))\n",
    "display(purchase.head(5))"
   ]
  },
  {
   "cell_type": "code",
   "execution_count": 18,
   "metadata": {},
   "outputs": [
    {
     "name": "stdout",
     "output_type": "stream",
     "text": [
      "<class 'pandas.core.frame.DataFrame'>\n",
      "Int64Index: 66959 entries, 51405 to 118364\n",
      "Data columns (total 6 columns):\n",
      " #   Column          Non-Null Count  Dtype  \n",
      "---  ------          --------------  -----  \n",
      " 0   id              66959 non-null  int64  \n",
      " 1   event_type      66959 non-null  object \n",
      " 2   selected_level  8342 non-null   object \n",
      " 3   start_time      66959 non-null  object \n",
      " 4   tutorial_id     32954 non-null  float64\n",
      " 5   user_id         66959 non-null  int64  \n",
      "dtypes: float64(1), int64(2), object(3)\n",
      "memory usage: 3.6+ MB\n"
     ]
    }
   ],
   "source": [
    "# выведем список пользователей зарегистрировавшихся в 2018 году\n",
    "mask_year = (event['event_type'] == 'registration') & (event['start_time'] >= '2018-01-01') & (event['start_time'] < '2019-01-01')\n",
    "registered_users = event[mask_year]['user_id'].values \n",
    "# применим фильтр и создадим новый датафрейм\n",
    "events_registred = event[event['user_id'].isin(registered_users)] \n",
    "events_registred.info()\n"
   ]
  },
  {
   "cell_type": "code",
   "execution_count": 19,
   "metadata": {},
   "outputs": [
    {
     "name": "stdout",
     "output_type": "stream",
     "text": [
      "<class 'pandas.core.frame.DataFrame'>\n",
      "RangeIndex: 5956 entries, 0 to 5955\n",
      "Data columns (total 4 columns):\n",
      " #   Column          Non-Null Count  Dtype \n",
      "---  ------          --------------  ----- \n",
      " 0   id              5956 non-null   int64 \n",
      " 1   user_id         5956 non-null   int64 \n",
      " 2   event_datetime  5956 non-null   object\n",
      " 3   amount          5956 non-null   int64 \n",
      "dtypes: int64(3), object(1)\n",
      "memory usage: 186.2+ KB\n"
     ]
    }
   ],
   "source": [
    "purchase.info()"
   ]
  },
  {
   "cell_type": "code",
   "execution_count": 20,
   "metadata": {},
   "outputs": [
    {
     "name": "stdout",
     "output_type": "stream",
     "text": [
      "<class 'pandas.core.frame.DataFrame'>\n",
      "Int64Index: 1600 entries, 1171 to 2778\n",
      "Data columns (total 4 columns):\n",
      " #   Column          Non-Null Count  Dtype \n",
      "---  ------          --------------  ----- \n",
      " 0   id              1600 non-null   int64 \n",
      " 1   user_id         1600 non-null   int64 \n",
      " 2   event_datetime  1600 non-null   object\n",
      " 3   amount          1600 non-null   int64 \n",
      "dtypes: int64(3), object(1)\n",
      "memory usage: 62.5+ KB\n"
     ]
    },
    {
     "data": {
      "text/html": [
       "<div>\n",
       "<style scoped>\n",
       "    .dataframe tbody tr th:only-of-type {\n",
       "        vertical-align: middle;\n",
       "    }\n",
       "\n",
       "    .dataframe tbody tr th {\n",
       "        vertical-align: top;\n",
       "    }\n",
       "\n",
       "    .dataframe thead th {\n",
       "        text-align: right;\n",
       "    }\n",
       "</style>\n",
       "<table border=\"1\" class=\"dataframe\">\n",
       "  <thead>\n",
       "    <tr style=\"text-align: right;\">\n",
       "      <th></th>\n",
       "      <th>id</th>\n",
       "      <th>user_id</th>\n",
       "      <th>event_datetime</th>\n",
       "      <th>amount</th>\n",
       "    </tr>\n",
       "  </thead>\n",
       "  <tbody>\n",
       "    <tr>\n",
       "      <th>1171</th>\n",
       "      <td>16845</td>\n",
       "      <td>27845</td>\n",
       "      <td>2018-01-03T18:53:43</td>\n",
       "      <td>100</td>\n",
       "    </tr>\n",
       "    <tr>\n",
       "      <th>1172</th>\n",
       "      <td>16846</td>\n",
       "      <td>27865</td>\n",
       "      <td>2018-01-04T14:46:10</td>\n",
       "      <td>250</td>\n",
       "    </tr>\n",
       "    <tr>\n",
       "      <th>1174</th>\n",
       "      <td>16848</td>\n",
       "      <td>27911</td>\n",
       "      <td>2018-01-07T08:19:12</td>\n",
       "      <td>50</td>\n",
       "    </tr>\n",
       "    <tr>\n",
       "      <th>1175</th>\n",
       "      <td>16849</td>\n",
       "      <td>27910</td>\n",
       "      <td>2018-01-07T12:11:34</td>\n",
       "      <td>100</td>\n",
       "    </tr>\n",
       "    <tr>\n",
       "      <th>1176</th>\n",
       "      <td>16850</td>\n",
       "      <td>27940</td>\n",
       "      <td>2018-01-07T13:16:41</td>\n",
       "      <td>200</td>\n",
       "    </tr>\n",
       "  </tbody>\n",
       "</table>\n",
       "</div>"
      ],
      "text/plain": [
       "         id  user_id       event_datetime  amount\n",
       "1171  16845    27845  2018-01-03T18:53:43     100\n",
       "1172  16846    27865  2018-01-04T14:46:10     250\n",
       "1174  16848    27911  2018-01-07T08:19:12      50\n",
       "1175  16849    27910  2018-01-07T12:11:34     100\n",
       "1176  16850    27940  2018-01-07T13:16:41     200"
      ]
     },
     "execution_count": 20,
     "metadata": {},
     "output_type": "execute_result"
    }
   ],
   "source": [
    "purchase_registred = purchase[purchase['user_id'].isin(registered_users)]\n",
    "purchase_registred.info()\n",
    "purchase_registred.head()"
   ]
  },
  {
   "cell_type": "markdown",
   "metadata": {},
   "source": [
    "Для того чтобы понимать, как пользователи переходят из этапа в этап и на каких из них возникают сложности, мы должны определить конверсию на каждом из этапов воронки. То есть нам нужно понять, какой процент пользователей переходит с предыдущего этапа на следующий."
   ]
  },
  {
   "cell_type": "markdown",
   "metadata": {},
   "source": [
    "**Изучаем событие registration**"
   ]
  },
  {
   "cell_type": "code",
   "execution_count": 21,
   "metadata": {},
   "outputs": [
    {
     "data": {
      "text/plain": [
       "19926"
      ]
     },
     "execution_count": 21,
     "metadata": {},
     "output_type": "execute_result"
    }
   ],
   "source": [
    "# Сколько пользователей совершили событие registration\n",
    "events_registred[events_registred['event_type']=='registration']['user_id'].nunique() "
   ]
  },
  {
   "cell_type": "code",
   "execution_count": 22,
   "metadata": {},
   "outputs": [
    {
     "data": {
      "text/plain": [
       "19926"
      ]
     },
     "execution_count": 22,
     "metadata": {},
     "output_type": "execute_result"
    }
   ],
   "source": [
    "events_registred['user_id'].nunique()"
   ]
  },
  {
   "cell_type": "markdown",
   "metadata": {},
   "source": [
    "Все пользователи совершают событие registration. Это обусловлено тем, что данный этап является обязательным для выполнения и без него пользователь не сможет перейти дальше."
   ]
  },
  {
   "cell_type": "markdown",
   "metadata": {},
   "source": [
    "**Изучаем событие tutorial_start**"
   ]
  },
  {
   "cell_type": "code",
   "execution_count": 23,
   "metadata": {},
   "outputs": [
    {
     "data": {
      "text/html": [
       "<div>\n",
       "<style scoped>\n",
       "    .dataframe tbody tr th:only-of-type {\n",
       "        vertical-align: middle;\n",
       "    }\n",
       "\n",
       "    .dataframe tbody tr th {\n",
       "        vertical-align: top;\n",
       "    }\n",
       "\n",
       "    .dataframe thead th {\n",
       "        text-align: right;\n",
       "    }\n",
       "</style>\n",
       "<table border=\"1\" class=\"dataframe\">\n",
       "  <thead>\n",
       "    <tr style=\"text-align: right;\">\n",
       "      <th></th>\n",
       "      <th>id</th>\n",
       "      <th>event_type</th>\n",
       "      <th>selected_level</th>\n",
       "      <th>start_time</th>\n",
       "      <th>tutorial_id</th>\n",
       "      <th>user_id</th>\n",
       "    </tr>\n",
       "  </thead>\n",
       "  <tbody>\n",
       "    <tr>\n",
       "      <th>51412</th>\n",
       "      <td>80315</td>\n",
       "      <td>tutorial_start</td>\n",
       "      <td>NaN</td>\n",
       "      <td>2018-01-01T14:54:40</td>\n",
       "      <td>31505.0</td>\n",
       "      <td>27836</td>\n",
       "    </tr>\n",
       "    <tr>\n",
       "      <th>51413</th>\n",
       "      <td>80316</td>\n",
       "      <td>tutorial_start</td>\n",
       "      <td>NaN</td>\n",
       "      <td>2018-01-01T15:00:51</td>\n",
       "      <td>31506.0</td>\n",
       "      <td>27835</td>\n",
       "    </tr>\n",
       "    <tr>\n",
       "      <th>51415</th>\n",
       "      <td>80318</td>\n",
       "      <td>tutorial_start</td>\n",
       "      <td>NaN</td>\n",
       "      <td>2018-01-01T15:40:43</td>\n",
       "      <td>31507.0</td>\n",
       "      <td>27836</td>\n",
       "    </tr>\n",
       "    <tr>\n",
       "      <th>51417</th>\n",
       "      <td>80320</td>\n",
       "      <td>tutorial_start</td>\n",
       "      <td>NaN</td>\n",
       "      <td>2018-01-01T17:47:40</td>\n",
       "      <td>31508.0</td>\n",
       "      <td>27833</td>\n",
       "    </tr>\n",
       "    <tr>\n",
       "      <th>51420</th>\n",
       "      <td>80323</td>\n",
       "      <td>tutorial_start</td>\n",
       "      <td>NaN</td>\n",
       "      <td>2018-01-01T19:11:36</td>\n",
       "      <td>31509.0</td>\n",
       "      <td>27839</td>\n",
       "    </tr>\n",
       "  </tbody>\n",
       "</table>\n",
       "</div>"
      ],
      "text/plain": [
       "          id      event_type selected_level           start_time  tutorial_id  \\\n",
       "51412  80315  tutorial_start            NaN  2018-01-01T14:54:40      31505.0   \n",
       "51413  80316  tutorial_start            NaN  2018-01-01T15:00:51      31506.0   \n",
       "51415  80318  tutorial_start            NaN  2018-01-01T15:40:43      31507.0   \n",
       "51417  80320  tutorial_start            NaN  2018-01-01T17:47:40      31508.0   \n",
       "51420  80323  tutorial_start            NaN  2018-01-01T19:11:36      31509.0   \n",
       "\n",
       "       user_id  \n",
       "51412    27836  \n",
       "51413    27835  \n",
       "51415    27836  \n",
       "51417    27833  \n",
       "51420    27839  "
      ]
     },
     "execution_count": 23,
     "metadata": {},
     "output_type": "execute_result"
    }
   ],
   "source": [
    "# Срез данных по событию tutorial_start\n",
    "events_registred[events_registred['event_type']=='tutorial_start'].head(5) "
   ]
  },
  {
   "cell_type": "markdown",
   "metadata": {},
   "source": [
    "Число пользователей прошедших регистрацию больше чем обучение"
   ]
  },
  {
   "cell_type": "code",
   "execution_count": 24,
   "metadata": {},
   "outputs": [
    {
     "name": "stdout",
     "output_type": "stream",
     "text": [
      "Процент пользователей, начавших обучение, от общего числа зарегистрировавшихся: 59.51%\n"
     ]
    }
   ],
   "source": [
    "# Определим процент пользователей, которые перешли к выполнению обучения, и запишем его в переменную percent_tutorial_start_users.\n",
    "registered_users_count = events_registred[events_registred['event_type']=='registration']['user_id'].nunique() \n",
    "tutorial_users_count = events_registred[events_registred['event_type']=='tutorial_start']['user_id'].nunique() \n",
    "percent_tutorial_start_users = tutorial_users_count / registered_users_count\n",
    "print(f'Процент пользователей, начавших обучение, от общего числа зарегистрировавшихся: {percent_tutorial_start_users:.2%}')"
   ]
  },
  {
   "cell_type": "markdown",
   "metadata": {},
   "source": [
    "**Изучаем событие tutorial_finish**"
   ]
  },
  {
   "cell_type": "code",
   "execution_count": 25,
   "metadata": {},
   "outputs": [
    {
     "name": "stdout",
     "output_type": "stream",
     "text": [
      "Процент пользователей, завершивших обучение: 86.44%\n"
     ]
    }
   ],
   "source": [
    "# Какое количество пользователей проходит обучение до конца (событие tutorial_finish)\n",
    "tutorial_finish_users_count = events_registred[events_registred['event_type']=='tutorial_finish']['user_id'].nunique()\n",
    "# Рассчитаем процент пользователей, завершивших обучение, среди пользователей, которые начали обучение. \n",
    "tutorial_completion_rate = tutorial_finish_users_count / tutorial_users_count \n",
    "print(f'Процент пользователей, завершивших обучение: {tutorial_completion_rate:.2%}')"
   ]
  },
  {
   "cell_type": "markdown",
   "metadata": {},
   "source": [
    "В приложении достаточно хороший процент прохождения обучения. Но есть куда стремиться для его увеличения."
   ]
  },
  {
   "cell_type": "markdown",
   "metadata": {},
   "source": [
    "**Изучаем событие level_choice**"
   ]
  },
  {
   "cell_type": "markdown",
   "metadata": {},
   "source": [
    "Из логики нашего приложения следует, что выбор уровня сложности можно совершить и без прохождения обучения. Поэтому рассчитаем долю пользователей percent_level_choice_users, которые выбрали уровень сложности, от общего числа зарегистрировавшихся:"
   ]
  },
  {
   "cell_type": "code",
   "execution_count": 26,
   "metadata": {},
   "outputs": [
    {
     "name": "stdout",
     "output_type": "stream",
     "text": [
      "Процент пользователей, выбравших уровень сложности тренировок (от общего числа зарегистрировавшихся):    41.86%\n"
     ]
    }
   ],
   "source": [
    "level_choice_users_count = events_registred[events_registred['event_type']=='level_choice']['user_id'].nunique() \n",
    "percent_level_choice_users = level_choice_users_count / registered_users_count\n",
    "print(f'Процент пользователей, выбравших уровень сложности тренировок (от общего числа зарегистрировавшихся):\\\n",
    "    {percent_level_choice_users:.2%}')"
   ]
  },
  {
   "cell_type": "markdown",
   "metadata": {},
   "source": [
    "Меньше половины пользователей (41.76 %) доходят до этапа выбора уровня сложности вопросов. А ведь этот этап напрямую влияет на то, что пользователь будет пользоваться приложением через бесплатные возможности, которые в дальнейшем могут привести к оплате.\n"
   ]
  },
  {
   "cell_type": "markdown",
   "metadata": {},
   "source": [
    "**Изучаем pack_choice** "
   ]
  },
  {
   "cell_type": "code",
   "execution_count": 27,
   "metadata": {},
   "outputs": [
    {
     "name": "stdout",
     "output_type": "stream",
     "text": [
      "Процент пользователей, выбравших пакет бесплатных вопросов (от числа пользователей, которые выбрали уровень сложности:    68.77%\n",
      "8342\n"
     ]
    }
   ],
   "source": [
    "training_choice_user_count = events_registred[events_registred['event_type']=='pack_choice']['user_id'].nunique()\n",
    "percent_training_choice_users = training_choice_user_count / level_choice_users_count \n",
    "print(f'Процент пользователей, выбравших пакет бесплатных вопросов (от числа пользователей, которые выбрали уровень сложности:\\\n",
    "    {percent_training_choice_users:.2%}')\n",
    "print(level_choice_users_count)"
   ]
  },
  {
   "cell_type": "markdown",
   "metadata": {},
   "source": [
    "**Изучаем покупку платных пакетов**"
   ]
  },
  {
   "cell_type": "code",
   "execution_count": 28,
   "metadata": {},
   "outputs": [
    {
     "name": "stdout",
     "output_type": "stream",
     "text": [
      "Процент пользователей, которые оплатили вопросы (от числа пользователей, которые выбрали тренировки):    27.89%\n",
      "Процент пользователей, которые оплатили вопросы(от числа зарегистрировавшихся пользователей):    8.03%\n"
     ]
    }
   ],
   "source": [
    "# Рассчитаем процент пользователей, которые оплатили вопросы, от числа пользователей, которые приобрели бесплатные вопросы:\n",
    "paying_users_count = purchase_registred['user_id'].nunique()\n",
    "percent_of_paying_users = paying_users_count / training_choice_user_count\n",
    "print(f'Процент пользователей, которые оплатили вопросы (от числа пользователей, которые выбрали тренировки):\\\n",
    "    {percent_of_paying_users:.2%}')\n",
    "# Посмотрим, какой процент составляют покупатели от общего числа зарегистрировавшихся\n",
    "purchase_rate = paying_users_count / registered_users_count \n",
    "print(f'Процент пользователей, которые оплатили вопросы(от числа зарегистрировавшихся пользователей):\\\n",
    "    {purchase_rate:.2%}')"
   ]
  },
  {
   "cell_type": "markdown",
   "metadata": {},
   "source": [
    "### АНАЛИЗ УНИКАЛЬНЫХ ПОЛЬЗОВАТЕЛЬСКИХ ПУТЕЙ"
   ]
  },
  {
   "cell_type": "markdown",
   "metadata": {},
   "source": [
    "Наша воронка предсказуемая: почти все этапы идут последовательно друг за другом. Однако нужно иметь в виду один нюанс: есть пользователи, которые не начинают обучение, есть такие, кто его не заканчивает, а есть те, кто проходят его по несколько раз. Отследив уникальные пользовательские пути, мы можем визуально оценить, какие успешные пути существуют, а также заметить отклонения."
   ]
  },
  {
   "cell_type": "code",
   "execution_count": 83,
   "metadata": {},
   "outputs": [
    {
     "data": {
      "text/plain": [
       "registration       19926\n",
       "tutorial_start     18050\n",
       "tutorial_finish    14904\n",
       "level_choice        8342\n",
       "pack_choice         5737\n",
       "purchase            1600\n",
       "Name: event_type, dtype: int64"
      ]
     },
     "metadata": {},
     "output_type": "display_data"
    }
   ],
   "source": [
    "# Объединим датафрейм с событиями с датафреймом по оплатам\n",
    "# Добавим событие purchase\n",
    "purchase['event_type'] = 'purchase' \n",
    "purchase_registred['event_type'] = 'purchase'\n",
    "# Переименуем столбцы с одинаковыми названиями\n",
    "event = event.rename(columns={'id':'event_id'}) \n",
    "purchase = purchase.rename(columns={'id':'purchase_id'})\n",
    "events_registred = events_registred.rename(columns={'id':'event_id'})\n",
    "purchase_registred = purchase_registred.rename(columns={'id':'purchase_id'})\n",
    "purchase_registred = purchase_registred.rename(columns={'event_datetime':'start_time'})\n",
    "# Объединяем датафреймы\n",
    "total_events = pd.concat([events_registred,purchase_registred],sort=False) \n",
    "total_events.head(10)\n",
    "display(total_events['event_type'].value_counts())"
   ]
  },
  {
   "cell_type": "markdown",
   "metadata": {},
   "source": [
    "Теперь сбросим индексы объединённого датафрейма (так как после объединения они дублировались и несут мало смысла) с помощью метода reset_index() и отсортируем все события по возрастанию времени с помощью sort_values()"
   ]
  },
  {
   "cell_type": "code",
   "execution_count": 35,
   "metadata": {},
   "outputs": [],
   "source": [
    "total_events = total_events.reset_index(drop=True).sort_values('start_time') # сформировали выборку, в которой объединили события и оплаты"
   ]
  },
  {
   "cell_type": "markdown",
   "metadata": {},
   "source": [
    "Воссоздаём последовательность событий поведения пользователя"
   ]
  },
  {
   "cell_type": "code",
   "execution_count": 36,
   "metadata": {},
   "outputs": [
    {
     "data": {
      "text/html": [
       "<div>\n",
       "<style scoped>\n",
       "    .dataframe tbody tr th:only-of-type {\n",
       "        vertical-align: middle;\n",
       "    }\n",
       "\n",
       "    .dataframe tbody tr th {\n",
       "        vertical-align: top;\n",
       "    }\n",
       "\n",
       "    .dataframe thead th {\n",
       "        text-align: right;\n",
       "    }\n",
       "</style>\n",
       "<table border=\"1\" class=\"dataframe\">\n",
       "  <thead>\n",
       "    <tr style=\"text-align: right;\">\n",
       "      <th></th>\n",
       "      <th>user_id</th>\n",
       "      <th>event_type</th>\n",
       "    </tr>\n",
       "  </thead>\n",
       "  <tbody>\n",
       "    <tr>\n",
       "      <th>0</th>\n",
       "      <td>27832</td>\n",
       "      <td>[registration]</td>\n",
       "    </tr>\n",
       "    <tr>\n",
       "      <th>1</th>\n",
       "      <td>27833</td>\n",
       "      <td>[registration, tutorial_start, tutorial_finish]</td>\n",
       "    </tr>\n",
       "    <tr>\n",
       "      <th>2</th>\n",
       "      <td>27834</td>\n",
       "      <td>[registration, tutorial_start, tutorial_finish]</td>\n",
       "    </tr>\n",
       "    <tr>\n",
       "      <th>3</th>\n",
       "      <td>27835</td>\n",
       "      <td>[registration, tutorial_start, tutorial_finish...</td>\n",
       "    </tr>\n",
       "    <tr>\n",
       "      <th>4</th>\n",
       "      <td>27836</td>\n",
       "      <td>[registration, tutorial_start, tutorial_start,...</td>\n",
       "    </tr>\n",
       "  </tbody>\n",
       "</table>\n",
       "</div>"
      ],
      "text/plain": [
       "   user_id                                         event_type\n",
       "0    27832                                     [registration]\n",
       "1    27833    [registration, tutorial_start, tutorial_finish]\n",
       "2    27834    [registration, tutorial_start, tutorial_finish]\n",
       "3    27835  [registration, tutorial_start, tutorial_finish...\n",
       "4    27836  [registration, tutorial_start, tutorial_start,..."
      ]
     },
     "execution_count": 36,
     "metadata": {},
     "output_type": "execute_result"
    }
   ],
   "source": [
    "user_path = total_events.groupby(['user_id'])['event_type'].apply(list).reset_index()\n",
    "user_path.head()"
   ]
  },
  {
   "cell_type": "markdown",
   "metadata": {},
   "source": [
    "Выявляем наиболее популярные пути.  Преобразуем список событий в строку event_path. Эта операция нужна для оптимизации скорости объединения."
   ]
  },
  {
   "cell_type": "code",
   "execution_count": 87,
   "metadata": {},
   "outputs": [],
   "source": [
    "user_path['event_path'] = user_path['event_type'].apply(lambda x: \" > \".join(x))"
   ]
  },
  {
   "cell_type": "code",
   "execution_count": 86,
   "metadata": {},
   "outputs": [
    {
     "data": {
      "text/plain": [
       "event_path\n",
       "registration                                                                                                       7970\n",
       "registration > tutorial_start > tutorial_finish > level_choice > pack_choice                                       2796\n",
       "registration > tutorial_start > tutorial_finish                                                                    1956\n",
       "registration > tutorial_start > tutorial_finish > level_choice                                                     1713\n",
       "registration > tutorial_start > tutorial_finish > level_choice > pack_choice > purchase                            1083\n",
       "registration > tutorial_start                                                                                       842\n",
       "registration > tutorial_start > level_choice > pack_choice                                                          346\n",
       "registration > tutorial_start > tutorial_finish > tutorial_start > tutorial_finish                                  323\n",
       "registration > tutorial_start > level_choice                                                                        243\n",
       "registration > tutorial_start > tutorial_finish > level_choice > pack_choice > tutorial_start > tutorial_finish     236\n",
       "Name: user_id, dtype: int64"
      ]
     },
     "execution_count": 86,
     "metadata": {},
     "output_type": "execute_result"
    }
   ],
   "source": [
    "# Cгруппируем датафрейм по столбцу event_path, подсчитав число пользователей\n",
    "user_paths = user_path.groupby('event_path')['user_id'].nunique().sort_values(ascending=False)\n",
    "# Выведем 10 самых популярных путей\n",
    "user_paths.head(10)"
   ]
  },
  {
   "cell_type": "markdown",
   "metadata": {},
   "source": [
    "Только 1 из 10 самых популярных последовательностей привела к покупке"
   ]
  },
  {
   "cell_type": "code",
   "execution_count": 39,
   "metadata": {},
   "outputs": [
    {
     "data": {
      "text/plain": [
       "event_path\n",
       "registration > tutorial_start > tutorial_finish > level_choice > pack_choice > purchase                                                                                                             1083\n",
       "registration > tutorial_start > level_choice > pack_choice > purchase                                                                                                                                124\n",
       "registration > tutorial_start > tutorial_finish > level_choice > pack_choice > tutorial_start > tutorial_finish > purchase                                                                           101\n",
       "registration > tutorial_start > tutorial_finish > tutorial_start > tutorial_finish > level_choice > pack_choice > purchase                                                                            52\n",
       "registration > tutorial_start > tutorial_start > tutorial_finish > level_choice > pack_choice > purchase                                                                                              26\n",
       "registration > level_choice > pack_choice > purchase                                                                                                                                                  22\n",
       "registration > tutorial_start > tutorial_finish > level_choice > pack_choice > tutorial_start > purchase                                                                                              21\n",
       "registration > tutorial_start > tutorial_finish > level_choice > pack_choice > tutorial_start > tutorial_finish > tutorial_start > tutorial_finish > purchase                                         12\n",
       "registration > tutorial_start > tutorial_finish > tutorial_start > tutorial_finish > level_choice > pack_choice > tutorial_start > tutorial_finish > purchase                                          8\n",
       "registration > tutorial_start > tutorial_finish > level_choice > pack_choice > tutorial_start > tutorial_finish > tutorial_start > tutorial_finish > tutorial_start > tutorial_finish > purchase       7\n",
       "Name: user_id, dtype: int64"
      ]
     },
     "execution_count": 39,
     "metadata": {},
     "output_type": "execute_result"
    }
   ],
   "source": [
    "# Посмотрим, какие ещё последовательности содержат в себе оплату\n",
    "user_paths[user_paths.index.str.contains('purchase')].head(10)"
   ]
  },
  {
   "cell_type": "markdown",
   "metadata": {},
   "source": [
    "Большинство последовательностей, которые содержат в себе оплату, также содержат старт обучения. Это наводит на гипотезу, что вероятность оплаты зависит от того, **проходил ли пользователь обучение**."
   ]
  },
  {
   "cell_type": "markdown",
   "metadata": {},
   "source": [
    "### Анализ временных промежутков"
   ]
  },
  {
   "cell_type": "markdown",
   "metadata": {},
   "source": [
    "Время между этапами может сообщить о вовлечённости пользователей в приложение, а также о роли отдельных этапов на развитие этой вовлечённости. Если окажется, что у пользователей, которые проходят обучение, время до выбора вопросов меньше, чем у тех, кто его не проходит, то разработчикам нужно будет придумывать способы, как вовлекать пользователя в прохождение данного этапа."
   ]
  },
  {
   "cell_type": "markdown",
   "metadata": {},
   "source": [
    "Определим время между собтиями регистрации и начала обучения"
   ]
  },
  {
   "cell_type": "code",
   "execution_count": 96,
   "metadata": {},
   "outputs": [
    {
     "data": {
      "text/plain": [
       "1.0"
      ]
     },
     "execution_count": 96,
     "metadata": {},
     "output_type": "execute_result"
    }
   ],
   "source": [
    "# Создадим отдельный df только регистрации\n",
    "registration_df = total_events[total_events['event_type']=='registration'] \n",
    "# Проверим что на 1 пользрвателя приходится 1 регистрация\n",
    "registration_df['user_id'].value_counts().mean() "
   ]
  },
  {
   "cell_type": "code",
   "execution_count": 95,
   "metadata": {},
   "outputs": [
    {
     "data": {
      "text/plain": [
       "1.522179119581717"
      ]
     },
     "execution_count": 95,
     "metadata": {},
     "output_type": "execute_result"
    }
   ],
   "source": [
    "tutorial_df = total_events[total_events['event_type']=='tutorial_start'] # создадим отдельный df только обучения\n",
    "tutorial_df['user_id'].value_counts().mean() # проверим сколько в среднем обучений проходит 1 пользователь"
   ]
  },
  {
   "cell_type": "code",
   "execution_count": 94,
   "metadata": {},
   "outputs": [
    {
     "data": {
      "text/plain": [
       "1.0"
      ]
     },
     "execution_count": 94,
     "metadata": {},
     "output_type": "execute_result"
    }
   ],
   "source": [
    "# Отсортируем и удалим дупликаты\n",
    "tutorial_start_df_wo_duplicates = tutorial_df.sort_values('start_time').drop_duplicates('user_id')\n",
    "# Будем проверять только 1-ое обучение\n",
    "tutorial_start_df_wo_duplicates['user_id'].value_counts().mean() "
   ]
  },
  {
   "cell_type": "code",
   "execution_count": 97,
   "metadata": {},
   "outputs": [
    {
     "data": {
      "text/html": [
       "<div>\n",
       "<style scoped>\n",
       "    .dataframe tbody tr th:only-of-type {\n",
       "        vertical-align: middle;\n",
       "    }\n",
       "\n",
       "    .dataframe tbody tr th {\n",
       "        vertical-align: top;\n",
       "    }\n",
       "\n",
       "    .dataframe thead th {\n",
       "        text-align: right;\n",
       "    }\n",
       "</style>\n",
       "<table border=\"1\" class=\"dataframe\">\n",
       "  <thead>\n",
       "    <tr style=\"text-align: right;\">\n",
       "      <th></th>\n",
       "      <th>user_id</th>\n",
       "      <th>registration_time</th>\n",
       "      <th>tutorial_id</th>\n",
       "      <th>tutorial_start_time</th>\n",
       "    </tr>\n",
       "  </thead>\n",
       "  <tbody>\n",
       "    <tr>\n",
       "      <th>0</th>\n",
       "      <td>27833</td>\n",
       "      <td>2018-01-01T04:07:25</td>\n",
       "      <td>31508.0</td>\n",
       "      <td>2018-01-01T17:47:40</td>\n",
       "    </tr>\n",
       "    <tr>\n",
       "      <th>1</th>\n",
       "      <td>27834</td>\n",
       "      <td>2018-01-01T08:35:10</td>\n",
       "      <td>31510.0</td>\n",
       "      <td>2018-01-01T19:46:11</td>\n",
       "    </tr>\n",
       "    <tr>\n",
       "      <th>2</th>\n",
       "      <td>27835</td>\n",
       "      <td>2018-01-01T11:54:47</td>\n",
       "      <td>31506.0</td>\n",
       "      <td>2018-01-01T15:00:51</td>\n",
       "    </tr>\n",
       "    <tr>\n",
       "      <th>3</th>\n",
       "      <td>27836</td>\n",
       "      <td>2018-01-01T13:28:07</td>\n",
       "      <td>31505.0</td>\n",
       "      <td>2018-01-01T14:54:40</td>\n",
       "    </tr>\n",
       "    <tr>\n",
       "      <th>4</th>\n",
       "      <td>27839</td>\n",
       "      <td>2018-01-01T18:24:01</td>\n",
       "      <td>31509.0</td>\n",
       "      <td>2018-01-01T19:11:36</td>\n",
       "    </tr>\n",
       "  </tbody>\n",
       "</table>\n",
       "</div>"
      ],
      "text/plain": [
       "   user_id    registration_time  tutorial_id  tutorial_start_time\n",
       "0    27833  2018-01-01T04:07:25      31508.0  2018-01-01T17:47:40\n",
       "1    27834  2018-01-01T08:35:10      31510.0  2018-01-01T19:46:11\n",
       "2    27835  2018-01-01T11:54:47      31506.0  2018-01-01T15:00:51\n",
       "3    27836  2018-01-01T13:28:07      31505.0  2018-01-01T14:54:40\n",
       "4    27839  2018-01-01T18:24:01      31509.0  2018-01-01T19:11:36"
      ]
     },
     "execution_count": 97,
     "metadata": {},
     "output_type": "execute_result"
    }
   ],
   "source": [
    "# Переименуем столбцы\n",
    "registration_df = registration_df[['user_id','start_time']].rename(columns={'start_time':'registration_time'})\n",
    "tutorial_start_df_wo_duplicates = tutorial_start_df_wo_duplicates[\n",
    "    ['user_id','tutorial_id','start_time']\n",
    "].rename(columns={'start_time':'tutorial_start_time'})\n",
    "# Объединим таблицы по столбцу user_id \n",
    "merged_df = registration_df.merge(tutorial_start_df_wo_duplicates,on='user_id',how='inner')\n",
    "merged_df['tutorial_start_time'] = pd.to_datetime(merged_df['tutorial_start_time'],yearfirst=True) \n",
    "merged_df['registration_time'] = pd.to_datetime(merged_df['registration_time'] ,yearfirst=True)\n",
    "# Разница между временем начала обучения и временем регистрации\n",
    "merged_df['timedelta'] = merged_df['tutorial_start_time'] - merged_df['registration_time']\n",
    "merged_df.head()"
   ]
  },
  {
   "cell_type": "code",
   "execution_count": 48,
   "metadata": {},
   "outputs": [
    {
     "data": {
      "text/plain": [
       "Timedelta('0 days 04:38:24.019817844')"
      ]
     },
     "execution_count": 48,
     "metadata": {},
     "output_type": "execute_result"
    }
   ],
   "source": [
    "# Среднее время, которое проходит между регистрацией пользователя и началом первого обучения\n",
    "merged_df['timedelta'].mean() "
   ]
  },
  {
   "cell_type": "code",
   "execution_count": 49,
   "metadata": {},
   "outputs": [
    {
     "data": {
      "text/plain": [
       "count                        11858\n",
       "mean     0 days 04:38:24.019817844\n",
       "std      0 days 04:15:09.650705034\n",
       "min                0 days 00:00:34\n",
       "25%         0 days 01:21:37.500000\n",
       "50%         0 days 03:22:08.500000\n",
       "75%         0 days 06:47:42.750000\n",
       "max                1 days 16:03:46\n",
       "Name: timedelta, dtype: object"
      ]
     },
     "execution_count": 49,
     "metadata": {},
     "output_type": "execute_result"
    }
   ],
   "source": [
    "# Проверим медианное и среднее значение\n",
    "merged_df['timedelta'].describe() "
   ]
  },
  {
   "cell_type": "markdown",
   "metadata": {},
   "source": [
    "Таким образом:\n",
    "- четверть пользователей тратит меньше 1 часа 26 минут на переход от регистрации к началу обучения;\n",
    "- половина всех пользователей тратит между регистрацией и началом обучения менее 3 часов 28 минут."
   ]
  },
  {
   "cell_type": "markdown",
   "metadata": {},
   "source": [
    "Такая сегментация пользователей может дать нам важные опорные точки для оптимизации времени. Мы можем сосредоточится не на оптимизации среднего времени (поскольку среднее будет увеличено за счёт пользователей, которые долго проходят этап), а на том, чтобы оптимизировать медианное время"
   ]
  },
  {
   "cell_type": "markdown",
   "metadata": {},
   "source": [
    "Измеряем время обучения:"
   ]
  },
  {
   "cell_type": "code",
   "execution_count": 99,
   "metadata": {},
   "outputs": [
    {
     "data": {
      "text/plain": [
       "1.0"
      ]
     },
     "execution_count": 99,
     "metadata": {},
     "output_type": "execute_result"
    }
   ],
   "source": [
    "# Создадим df с событием окончания обучения\n",
    "tutorial_finish_df = total_events[total_events['event_type']=='tutorial_finish']\n",
    "# Возьмём время окончания первого обучения для тех обучений, которые были закончены\n",
    "# Сформируем список с идентификаторами первых обучений\n",
    "first_tutorial_ids = tutorial_start_df_wo_duplicates['tutorial_id'].unique()\n",
    "# Отфильтруем датафрейм  и перезапишем\n",
    "# Оставив в нём только события для таких обучений, которые были первыми для пользователя\n",
    "tutorial_finish_df = tutorial_finish_df[tutorial_finish_df['tutorial_id'].isin(first_tutorial_ids)]\n",
    "# Проверим, что на 1 пользователя приходится 1 обучение\n",
    "tutorial_finish_df['user_id'].value_counts().mean()"
   ]
  },
  {
   "cell_type": "code",
   "execution_count": 53,
   "metadata": {},
   "outputs": [],
   "source": [
    "tutorial_finish_df = tutorial_finish_df[['user_id','start_time']].rename(columns={'start_time':'tutorial_finish_time'})\n",
    "# Оставим только необходимые столбцы\n",
    "merged_df_2 = tutorial_start_df_wo_duplicates.merge(tutorial_finish_df,on='user_id',how='inner')\n",
    "# Объединим df с началом и концом обучения\n",
    "merged_df_2['tutorial_finish_time'] = pd.to_datetime(merged_df_2['tutorial_finish_time'],yearfirst=True)\n",
    "merged_df_2['tutorial_start_time'] = pd.to_datetime(merged_df_2['tutorial_start_time'],yearfirst=True)\n",
    "# Найдем дельту промежутка начала и конца обучения\n",
    "merged_df_2['timedelta'] = merged_df_2['tutorial_finish_time'] - merged_df_2['tutorial_start_time'] "
   ]
  },
  {
   "cell_type": "code",
   "execution_count": 54,
   "metadata": {},
   "outputs": [
    {
     "data": {
      "text/html": [
       "<div>\n",
       "<style scoped>\n",
       "    .dataframe tbody tr th:only-of-type {\n",
       "        vertical-align: middle;\n",
       "    }\n",
       "\n",
       "    .dataframe tbody tr th {\n",
       "        vertical-align: top;\n",
       "    }\n",
       "\n",
       "    .dataframe thead th {\n",
       "        text-align: right;\n",
       "    }\n",
       "</style>\n",
       "<table border=\"1\" class=\"dataframe\">\n",
       "  <thead>\n",
       "    <tr style=\"text-align: right;\">\n",
       "      <th></th>\n",
       "      <th>user_id</th>\n",
       "      <th>tutorial_id</th>\n",
       "      <th>tutorial_start_time</th>\n",
       "      <th>tutorial_finish_time</th>\n",
       "      <th>timedelta</th>\n",
       "    </tr>\n",
       "  </thead>\n",
       "  <tbody>\n",
       "    <tr>\n",
       "      <th>0</th>\n",
       "      <td>27835</td>\n",
       "      <td>31506.0</td>\n",
       "      <td>2018-01-01 15:00:51</td>\n",
       "      <td>2018-01-01 15:06:15</td>\n",
       "      <td>0 days 00:05:24</td>\n",
       "    </tr>\n",
       "    <tr>\n",
       "      <th>1</th>\n",
       "      <td>27833</td>\n",
       "      <td>31508.0</td>\n",
       "      <td>2018-01-01 17:47:40</td>\n",
       "      <td>2018-01-01 17:50:08</td>\n",
       "      <td>0 days 00:02:28</td>\n",
       "    </tr>\n",
       "    <tr>\n",
       "      <th>2</th>\n",
       "      <td>27839</td>\n",
       "      <td>31509.0</td>\n",
       "      <td>2018-01-01 19:11:36</td>\n",
       "      <td>2018-01-01 19:16:32</td>\n",
       "      <td>0 days 00:04:56</td>\n",
       "    </tr>\n",
       "    <tr>\n",
       "      <th>3</th>\n",
       "      <td>27834</td>\n",
       "      <td>31510.0</td>\n",
       "      <td>2018-01-01 19:46:11</td>\n",
       "      <td>2018-01-01 19:48:01</td>\n",
       "      <td>0 days 00:01:50</td>\n",
       "    </tr>\n",
       "    <tr>\n",
       "      <th>4</th>\n",
       "      <td>27845</td>\n",
       "      <td>31512.0</td>\n",
       "      <td>2018-01-02 03:03:44</td>\n",
       "      <td>2018-01-02 03:06:48</td>\n",
       "      <td>0 days 00:03:04</td>\n",
       "    </tr>\n",
       "  </tbody>\n",
       "</table>\n",
       "</div>"
      ],
      "text/plain": [
       "   user_id  tutorial_id tutorial_start_time tutorial_finish_time  \\\n",
       "0    27835      31506.0 2018-01-01 15:00:51  2018-01-01 15:06:15   \n",
       "1    27833      31508.0 2018-01-01 17:47:40  2018-01-01 17:50:08   \n",
       "2    27839      31509.0 2018-01-01 19:11:36  2018-01-01 19:16:32   \n",
       "3    27834      31510.0 2018-01-01 19:46:11  2018-01-01 19:48:01   \n",
       "4    27845      31512.0 2018-01-02 03:03:44  2018-01-02 03:06:48   \n",
       "\n",
       "        timedelta  \n",
       "0 0 days 00:05:24  \n",
       "1 0 days 00:02:28  \n",
       "2 0 days 00:04:56  \n",
       "3 0 days 00:01:50  \n",
       "4 0 days 00:03:04  "
      ]
     },
     "metadata": {},
     "output_type": "display_data"
    },
    {
     "name": "stdout",
     "output_type": "stream",
     "text": [
      "0 days 00:03:53.174160732\n",
      "count                         9830\n",
      "mean     0 days 00:03:53.174160732\n",
      "std      0 days 00:01:44.803217992\n",
      "min                0 days 00:00:16\n",
      "25%                0 days 00:02:28\n",
      "50%                0 days 00:03:42\n",
      "75%                0 days 00:05:08\n",
      "max                0 days 00:10:06\n",
      "Name: timedelta, dtype: object\n"
     ]
    }
   ],
   "source": [
    "display(merged_df_2.head())\n",
    "print(merged_df_2['timedelta'].mean())\n",
    "print(merged_df_2['timedelta'].describe())"
   ]
  },
  {
   "cell_type": "markdown",
   "metadata": {},
   "source": [
    "75 % пользователей проходят обучение менее чем за 5 минут 3 секунды."
   ]
  },
  {
   "cell_type": "markdown",
   "metadata": {},
   "source": [
    " Определяем время между registration и level_choice"
   ]
  },
  {
   "cell_type": "code",
   "execution_count": 55,
   "metadata": {},
   "outputs": [
    {
     "name": "stdout",
     "output_type": "stream",
     "text": [
      "1.0\n"
     ]
    },
    {
     "data": {
      "text/html": [
       "<div>\n",
       "<style scoped>\n",
       "    .dataframe tbody tr th:only-of-type {\n",
       "        vertical-align: middle;\n",
       "    }\n",
       "\n",
       "    .dataframe tbody tr th {\n",
       "        vertical-align: top;\n",
       "    }\n",
       "\n",
       "    .dataframe thead th {\n",
       "        text-align: right;\n",
       "    }\n",
       "</style>\n",
       "<table border=\"1\" class=\"dataframe\">\n",
       "  <thead>\n",
       "    <tr style=\"text-align: right;\">\n",
       "      <th></th>\n",
       "      <th>user_id</th>\n",
       "      <th>level_choice_time</th>\n",
       "      <th>registration_time</th>\n",
       "    </tr>\n",
       "  </thead>\n",
       "  <tbody>\n",
       "    <tr>\n",
       "      <th>0</th>\n",
       "      <td>27835</td>\n",
       "      <td>2018-01-01T20:37:22</td>\n",
       "      <td>2018-01-01T11:54:47</td>\n",
       "    </tr>\n",
       "    <tr>\n",
       "      <th>1</th>\n",
       "      <td>27839</td>\n",
       "      <td>2018-01-01T22:37:50</td>\n",
       "      <td>2018-01-01T18:24:01</td>\n",
       "    </tr>\n",
       "    <tr>\n",
       "      <th>2</th>\n",
       "      <td>27840</td>\n",
       "      <td>2018-01-02T05:18:42</td>\n",
       "      <td>2018-01-01T20:53:21</td>\n",
       "    </tr>\n",
       "    <tr>\n",
       "      <th>3</th>\n",
       "      <td>27845</td>\n",
       "      <td>2018-01-02T06:19:18</td>\n",
       "      <td>2018-01-02T01:35:56</td>\n",
       "    </tr>\n",
       "    <tr>\n",
       "      <th>4</th>\n",
       "      <td>27842</td>\n",
       "      <td>2018-01-02T08:46:03</td>\n",
       "      <td>2018-01-01T23:18:46</td>\n",
       "    </tr>\n",
       "  </tbody>\n",
       "</table>\n",
       "</div>"
      ],
      "text/plain": [
       "   user_id    level_choice_time    registration_time\n",
       "0    27835  2018-01-01T20:37:22  2018-01-01T11:54:47\n",
       "1    27839  2018-01-01T22:37:50  2018-01-01T18:24:01\n",
       "2    27840  2018-01-02T05:18:42  2018-01-01T20:53:21\n",
       "3    27845  2018-01-02T06:19:18  2018-01-02T01:35:56\n",
       "4    27842  2018-01-02T08:46:03  2018-01-01T23:18:46"
      ]
     },
     "metadata": {},
     "output_type": "display_data"
    }
   ],
   "source": [
    "level_choise_df = total_events[total_events['event_type']=='level_choice']\n",
    "print(level_choise_df['user_id'].value_counts().mean())\n",
    "# выберем необходимые столбц и переименуем\n",
    "level_choise_df = level_choise_df[['user_id','start_time']\n",
    "].rename(columns={'start_time':'level_choice_time'})\n",
    "# присоедним таблицы \n",
    "merged_df_3 = level_choise_df.merge(registration_df,on='user_id',how='inner')\n",
    "display(merged_df_3.head())"
   ]
  },
  {
   "cell_type": "code",
   "execution_count": 100,
   "metadata": {},
   "outputs": [
    {
     "name": "stdout",
     "output_type": "stream",
     "text": [
      "0 days 07:10:19.169863342\n",
      "count                         8342\n",
      "mean     0 days 07:10:19.169863342\n",
      "std      0 days 04:33:51.164488800\n",
      "min                0 days 00:08:15\n",
      "25%         0 days 03:53:16.500000\n",
      "50%                0 days 06:03:28\n",
      "75%         0 days 09:34:58.500000\n",
      "max                1 days 18:48:25\n",
      "Name: timedelta, dtype: object\n"
     ]
    }
   ],
   "source": [
    "merged_df_3['level_choice_time'] = pd.to_datetime(merged_df_3['level_choice_time'],yearfirst=True)\n",
    "merged_df_3['registration_time'] = pd.to_datetime(merged_df_3['registration_time'],yearfirst=True)\n",
    "# Найдм временной промежуток между регистрацией и выбором сложности\n",
    "merged_df_3['timedelta'] = merged_df_3['level_choice_time'] - merged_df_3['registration_time']\n",
    "print(merged_df_3['timedelta'].mean())\n",
    "print(merged_df_3['timedelta'].describe())\n"
   ]
  },
  {
   "cell_type": "markdown",
   "metadata": {},
   "source": [
    "Определим сколько в среднем для всех пользователей проходит времени между событием выбора уровня сложности тренировки до события выбора набора бесплатных вопросов."
   ]
  },
  {
   "cell_type": "code",
   "execution_count": 102,
   "metadata": {},
   "outputs": [
    {
     "data": {
      "text/html": [
       "<div>\n",
       "<style scoped>\n",
       "    .dataframe tbody tr th:only-of-type {\n",
       "        vertical-align: middle;\n",
       "    }\n",
       "\n",
       "    .dataframe tbody tr th {\n",
       "        vertical-align: top;\n",
       "    }\n",
       "\n",
       "    .dataframe thead th {\n",
       "        text-align: right;\n",
       "    }\n",
       "</style>\n",
       "<table border=\"1\" class=\"dataframe\">\n",
       "  <thead>\n",
       "    <tr style=\"text-align: right;\">\n",
       "      <th></th>\n",
       "      <th>event_id</th>\n",
       "      <th>event_type</th>\n",
       "      <th>selected_level</th>\n",
       "      <th>start_time</th>\n",
       "      <th>tutorial_id</th>\n",
       "      <th>user_id</th>\n",
       "      <th>purchase_id</th>\n",
       "      <th>amount</th>\n",
       "    </tr>\n",
       "  </thead>\n",
       "  <tbody>\n",
       "    <tr>\n",
       "      <th>51425</th>\n",
       "      <td>80328.0</td>\n",
       "      <td>pack_choice</td>\n",
       "      <td>NaN</td>\n",
       "      <td>2018-01-01T20:38:43</td>\n",
       "      <td>NaN</td>\n",
       "      <td>27835</td>\n",
       "      <td>NaN</td>\n",
       "      <td>NaN</td>\n",
       "    </tr>\n",
       "    <tr>\n",
       "      <th>51429</th>\n",
       "      <td>80332.0</td>\n",
       "      <td>pack_choice</td>\n",
       "      <td>NaN</td>\n",
       "      <td>2018-01-01T22:42:54</td>\n",
       "      <td>NaN</td>\n",
       "      <td>27839</td>\n",
       "      <td>NaN</td>\n",
       "      <td>NaN</td>\n",
       "    </tr>\n",
       "    <tr>\n",
       "      <th>51444</th>\n",
       "      <td>80347.0</td>\n",
       "      <td>pack_choice</td>\n",
       "      <td>NaN</td>\n",
       "      <td>2018-01-02T06:25:12</td>\n",
       "      <td>NaN</td>\n",
       "      <td>27845</td>\n",
       "      <td>NaN</td>\n",
       "      <td>NaN</td>\n",
       "    </tr>\n",
       "    <tr>\n",
       "      <th>51458</th>\n",
       "      <td>80361.0</td>\n",
       "      <td>pack_choice</td>\n",
       "      <td>NaN</td>\n",
       "      <td>2018-01-02T11:59:26</td>\n",
       "      <td>NaN</td>\n",
       "      <td>27849</td>\n",
       "      <td>NaN</td>\n",
       "      <td>NaN</td>\n",
       "    </tr>\n",
       "    <tr>\n",
       "      <th>51463</th>\n",
       "      <td>80366.0</td>\n",
       "      <td>pack_choice</td>\n",
       "      <td>NaN</td>\n",
       "      <td>2018-01-02T14:14:51</td>\n",
       "      <td>NaN</td>\n",
       "      <td>27843</td>\n",
       "      <td>NaN</td>\n",
       "      <td>NaN</td>\n",
       "    </tr>\n",
       "  </tbody>\n",
       "</table>\n",
       "</div>"
      ],
      "text/plain": [
       "       event_id   event_type selected_level           start_time  tutorial_id  \\\n",
       "51425   80328.0  pack_choice            NaN  2018-01-01T20:38:43          NaN   \n",
       "51429   80332.0  pack_choice            NaN  2018-01-01T22:42:54          NaN   \n",
       "51444   80347.0  pack_choice            NaN  2018-01-02T06:25:12          NaN   \n",
       "51458   80361.0  pack_choice            NaN  2018-01-02T11:59:26          NaN   \n",
       "51463   80366.0  pack_choice            NaN  2018-01-02T14:14:51          NaN   \n",
       "\n",
       "       user_id  purchase_id  amount  \n",
       "51425    27835          NaN     NaN  \n",
       "51429    27839          NaN     NaN  \n",
       "51444    27845          NaN     NaN  \n",
       "51458    27849          NaN     NaN  \n",
       "51463    27843          NaN     NaN  "
      ]
     },
     "execution_count": 102,
     "metadata": {},
     "output_type": "execute_result"
    }
   ],
   "source": [
    "pack_choice_df = total_events[total_events['event_type']=='pack_choice']\n",
    "pack_choice_df.head()"
   ]
  },
  {
   "cell_type": "code",
   "execution_count": 103,
   "metadata": {},
   "outputs": [
    {
     "data": {
      "text/html": [
       "<div>\n",
       "<style scoped>\n",
       "    .dataframe tbody tr th:only-of-type {\n",
       "        vertical-align: middle;\n",
       "    }\n",
       "\n",
       "    .dataframe tbody tr th {\n",
       "        vertical-align: top;\n",
       "    }\n",
       "\n",
       "    .dataframe thead th {\n",
       "        text-align: right;\n",
       "    }\n",
       "</style>\n",
       "<table border=\"1\" class=\"dataframe\">\n",
       "  <thead>\n",
       "    <tr style=\"text-align: right;\">\n",
       "      <th></th>\n",
       "      <th>user_id</th>\n",
       "      <th>level_choice_time</th>\n",
       "      <th>pack_choice_time</th>\n",
       "    </tr>\n",
       "  </thead>\n",
       "  <tbody>\n",
       "    <tr>\n",
       "      <th>0</th>\n",
       "      <td>27835</td>\n",
       "      <td>2018-01-01T20:37:22</td>\n",
       "      <td>2018-01-01T20:38:43</td>\n",
       "    </tr>\n",
       "    <tr>\n",
       "      <th>1</th>\n",
       "      <td>27839</td>\n",
       "      <td>2018-01-01T22:37:50</td>\n",
       "      <td>2018-01-01T22:42:54</td>\n",
       "    </tr>\n",
       "    <tr>\n",
       "      <th>2</th>\n",
       "      <td>27845</td>\n",
       "      <td>2018-01-02T06:19:18</td>\n",
       "      <td>2018-01-02T06:25:12</td>\n",
       "    </tr>\n",
       "    <tr>\n",
       "      <th>3</th>\n",
       "      <td>27849</td>\n",
       "      <td>2018-01-02T11:53:11</td>\n",
       "      <td>2018-01-02T11:59:26</td>\n",
       "    </tr>\n",
       "    <tr>\n",
       "      <th>4</th>\n",
       "      <td>27843</td>\n",
       "      <td>2018-01-02T14:09:58</td>\n",
       "      <td>2018-01-02T14:14:51</td>\n",
       "    </tr>\n",
       "  </tbody>\n",
       "</table>\n",
       "</div>"
      ],
      "text/plain": [
       "   user_id    level_choice_time     pack_choice_time\n",
       "0    27835  2018-01-01T20:37:22  2018-01-01T20:38:43\n",
       "1    27839  2018-01-01T22:37:50  2018-01-01T22:42:54\n",
       "2    27845  2018-01-02T06:19:18  2018-01-02T06:25:12\n",
       "3    27849  2018-01-02T11:53:11  2018-01-02T11:59:26\n",
       "4    27843  2018-01-02T14:09:58  2018-01-02T14:14:51"
      ]
     },
     "metadata": {},
     "output_type": "display_data"
    },
    {
     "name": "stdout",
     "output_type": "stream",
     "text": [
      "1.0\n"
     ]
    }
   ],
   "source": [
    "pack_choice_df = pack_choice_df[['user_id','start_time']].rename(columns={'start_time':'pack_choice_time'})\n",
    "merged_df_4 = level_choise_df.merge(pack_choice_df,on='user_id',how='inner')\n",
    "display(merged_df_4.head())\n",
    "print(merged_df_4['user_id'].value_counts().mean())\n",
    "merged_df_4['level_choice_time'] = pd.to_datetime(merged_df_4['level_choice_time'],yearfirst=True)\n",
    "merged_df_4['pack_choice_time'] = pd.to_datetime(merged_df_4['pack_choice_time'],yearfirst=True)\n"
   ]
  },
  {
   "cell_type": "code",
   "execution_count": 62,
   "metadata": {},
   "outputs": [
    {
     "name": "stdout",
     "output_type": "stream",
     "text": [
      "0 days 00:05:17.128464354\n",
      "count                         5737\n",
      "mean     0 days 00:05:17.128464354\n",
      "std      0 days 00:02:43.923107804\n",
      "min                0 days 00:00:19\n",
      "25%                0 days 00:03:05\n",
      "50%                0 days 00:04:57\n",
      "75%                0 days 00:07:08\n",
      "max                0 days 00:15:48\n",
      "Name: timedelta, dtype: object\n"
     ]
    }
   ],
   "source": [
    "merged_df_4['timedelta'] = merged_df_4['pack_choice_time'] - merged_df_4['level_choice_time']\n",
    "print(merged_df_4['timedelta'].mean())\n",
    "print(merged_df_4['timedelta'].describe())"
   ]
  },
  {
   "cell_type": "markdown",
   "metadata": {},
   "source": [
    "Меньше 5 минут в среднем для всех пользователей проходит времени между событием выбора уровня сложности тренировки до события выбора набора бесплатных вопросов"
   ]
  },
  {
   "cell_type": "markdown",
   "metadata": {},
   "source": [
    "Определим сколько в среднем для всех пользователей проходит времени между событием выбора бесплатных вопросов и первой оплатой."
   ]
  },
  {
   "cell_type": "code",
   "execution_count": 104,
   "metadata": {},
   "outputs": [
    {
     "data": {
      "text/html": [
       "<div>\n",
       "<style scoped>\n",
       "    .dataframe tbody tr th:only-of-type {\n",
       "        vertical-align: middle;\n",
       "    }\n",
       "\n",
       "    .dataframe tbody tr th {\n",
       "        vertical-align: top;\n",
       "    }\n",
       "\n",
       "    .dataframe thead th {\n",
       "        text-align: right;\n",
       "    }\n",
       "</style>\n",
       "<table border=\"1\" class=\"dataframe\">\n",
       "  <thead>\n",
       "    <tr style=\"text-align: right;\">\n",
       "      <th></th>\n",
       "      <th>event_id</th>\n",
       "      <th>event_type</th>\n",
       "      <th>selected_level</th>\n",
       "      <th>start_time</th>\n",
       "      <th>tutorial_id</th>\n",
       "      <th>user_id</th>\n",
       "      <th>purchase_id</th>\n",
       "      <th>amount</th>\n",
       "    </tr>\n",
       "  </thead>\n",
       "  <tbody>\n",
       "    <tr>\n",
       "      <th>1171</th>\n",
       "      <td>NaN</td>\n",
       "      <td>purchase</td>\n",
       "      <td>NaN</td>\n",
       "      <td>2018-01-03T18:53:43</td>\n",
       "      <td>NaN</td>\n",
       "      <td>27845</td>\n",
       "      <td>16845.0</td>\n",
       "      <td>100.0</td>\n",
       "    </tr>\n",
       "    <tr>\n",
       "      <th>1172</th>\n",
       "      <td>NaN</td>\n",
       "      <td>purchase</td>\n",
       "      <td>NaN</td>\n",
       "      <td>2018-01-04T14:46:10</td>\n",
       "      <td>NaN</td>\n",
       "      <td>27865</td>\n",
       "      <td>16846.0</td>\n",
       "      <td>250.0</td>\n",
       "    </tr>\n",
       "    <tr>\n",
       "      <th>1174</th>\n",
       "      <td>NaN</td>\n",
       "      <td>purchase</td>\n",
       "      <td>NaN</td>\n",
       "      <td>2018-01-07T08:19:12</td>\n",
       "      <td>NaN</td>\n",
       "      <td>27911</td>\n",
       "      <td>16848.0</td>\n",
       "      <td>50.0</td>\n",
       "    </tr>\n",
       "    <tr>\n",
       "      <th>1175</th>\n",
       "      <td>NaN</td>\n",
       "      <td>purchase</td>\n",
       "      <td>NaN</td>\n",
       "      <td>2018-01-07T12:11:34</td>\n",
       "      <td>NaN</td>\n",
       "      <td>27910</td>\n",
       "      <td>16849.0</td>\n",
       "      <td>100.0</td>\n",
       "    </tr>\n",
       "    <tr>\n",
       "      <th>1176</th>\n",
       "      <td>NaN</td>\n",
       "      <td>purchase</td>\n",
       "      <td>NaN</td>\n",
       "      <td>2018-01-07T13:16:41</td>\n",
       "      <td>NaN</td>\n",
       "      <td>27940</td>\n",
       "      <td>16850.0</td>\n",
       "      <td>200.0</td>\n",
       "    </tr>\n",
       "  </tbody>\n",
       "</table>\n",
       "</div>"
      ],
      "text/plain": [
       "      event_id event_type selected_level           start_time  tutorial_id  \\\n",
       "1171       NaN   purchase            NaN  2018-01-03T18:53:43          NaN   \n",
       "1172       NaN   purchase            NaN  2018-01-04T14:46:10          NaN   \n",
       "1174       NaN   purchase            NaN  2018-01-07T08:19:12          NaN   \n",
       "1175       NaN   purchase            NaN  2018-01-07T12:11:34          NaN   \n",
       "1176       NaN   purchase            NaN  2018-01-07T13:16:41          NaN   \n",
       "\n",
       "      user_id  purchase_id  amount  \n",
       "1171    27845      16845.0   100.0  \n",
       "1172    27865      16846.0   250.0  \n",
       "1174    27911      16848.0    50.0  \n",
       "1175    27910      16849.0   100.0  \n",
       "1176    27940      16850.0   200.0  "
      ]
     },
     "execution_count": 104,
     "metadata": {},
     "output_type": "execute_result"
    }
   ],
   "source": [
    "purchase_time_df = total_events[total_events['event_type']=='purchase']\n",
    "purchase_time_df.head()\n"
   ]
  },
  {
   "cell_type": "code",
   "execution_count": 105,
   "metadata": {},
   "outputs": [
    {
     "data": {
      "text/html": [
       "<div>\n",
       "<style scoped>\n",
       "    .dataframe tbody tr th:only-of-type {\n",
       "        vertical-align: middle;\n",
       "    }\n",
       "\n",
       "    .dataframe tbody tr th {\n",
       "        vertical-align: top;\n",
       "    }\n",
       "\n",
       "    .dataframe thead th {\n",
       "        text-align: right;\n",
       "    }\n",
       "</style>\n",
       "<table border=\"1\" class=\"dataframe\">\n",
       "  <thead>\n",
       "    <tr style=\"text-align: right;\">\n",
       "      <th></th>\n",
       "      <th>user_id</th>\n",
       "      <th>pack_choice_time</th>\n",
       "      <th>purchase_time</th>\n",
       "    </tr>\n",
       "  </thead>\n",
       "  <tbody>\n",
       "    <tr>\n",
       "      <th>0</th>\n",
       "      <td>27845</td>\n",
       "      <td>2018-01-02T06:25:12</td>\n",
       "      <td>2018-01-03T18:53:43</td>\n",
       "    </tr>\n",
       "    <tr>\n",
       "      <th>1</th>\n",
       "      <td>27865</td>\n",
       "      <td>2018-01-04T06:03:20</td>\n",
       "      <td>2018-01-04T14:46:10</td>\n",
       "    </tr>\n",
       "    <tr>\n",
       "      <th>2</th>\n",
       "      <td>27884</td>\n",
       "      <td>2018-01-04T16:22:03</td>\n",
       "      <td>2018-01-08T19:37:34</td>\n",
       "    </tr>\n",
       "    <tr>\n",
       "      <th>3</th>\n",
       "      <td>27910</td>\n",
       "      <td>2018-01-05T12:05:28</td>\n",
       "      <td>2018-01-07T12:11:34</td>\n",
       "    </tr>\n",
       "    <tr>\n",
       "      <th>4</th>\n",
       "      <td>27911</td>\n",
       "      <td>2018-01-05T17:40:37</td>\n",
       "      <td>2018-01-07T08:19:12</td>\n",
       "    </tr>\n",
       "  </tbody>\n",
       "</table>\n",
       "</div>"
      ],
      "text/plain": [
       "   user_id     pack_choice_time        purchase_time\n",
       "0    27845  2018-01-02T06:25:12  2018-01-03T18:53:43\n",
       "1    27865  2018-01-04T06:03:20  2018-01-04T14:46:10\n",
       "2    27884  2018-01-04T16:22:03  2018-01-08T19:37:34\n",
       "3    27910  2018-01-05T12:05:28  2018-01-07T12:11:34\n",
       "4    27911  2018-01-05T17:40:37  2018-01-07T08:19:12"
      ]
     },
     "metadata": {},
     "output_type": "display_data"
    },
    {
     "name": "stdout",
     "output_type": "stream",
     "text": [
      "1.0\n",
      "3 days 17:46:53.403125\n",
      "count                         1600\n",
      "mean        3 days 17:46:53.403125\n",
      "std      2 days 04:37:20.225124289\n",
      "min                0 days 00:44:50\n",
      "25%         1 days 21:24:13.250000\n",
      "50%         3 days 12:51:25.500000\n",
      "75%         5 days 09:42:13.750000\n",
      "max               10 days 18:33:59\n",
      "Name: timedelta, dtype: object\n"
     ]
    }
   ],
   "source": [
    "purchase_time_df = purchase_time_df[['user_id','start_time']].rename(columns={'start_time':'purchase_time'})\n",
    "merged_df_5 = pack_choice_df.merge(purchase_time_df,on='user_id',how='inner')\n",
    "display(merged_df_5.head())\n",
    "print(merged_df_5['user_id'].value_counts().mean())\n",
    "merged_df_5['purchase_time'] = pd.to_datetime(merged_df_5['purchase_time'],yearfirst=True)\n",
    "merged_df_5['pack_choice_time'] = pd.to_datetime(merged_df_5['pack_choice_time'],yearfirst=True)\n",
    "merged_df_5['timedelta'] = merged_df_5['purchase_time'] - merged_df_5['pack_choice_time']\n",
    "print(merged_df_5['timedelta'].mean())\n",
    "print(merged_df_5['timedelta'].describe())"
   ]
  },
  {
   "cell_type": "markdown",
   "metadata": {},
   "source": [
    "3,5 дня в среднем для всех пользователей проходит между событием выбора бесплатных вопросов и первой оплатой."
   ]
  },
  {
   "cell_type": "markdown",
   "metadata": {},
   "source": [
    "## Проверка аналитической гипотезы.\n",
    "Определим, существует ли различие в частоте и средней величине оплат между тремя группами пользователей"
   ]
  },
  {
   "cell_type": "code",
   "execution_count": 67,
   "metadata": {},
   "outputs": [
    {
     "name": "stdout",
     "output_type": "stream",
     "text": [
      "10250\n"
     ]
    }
   ],
   "source": [
    "users_with_finished_tutorial = total_events[total_events['event_type']=='tutorial_finish']['user_id'].unique()\n",
    "# Пользователи закончившие обучение хотя бы 1 раз\n",
    "print(len(users_with_finished_tutorial)) "
   ]
  },
  {
   "cell_type": "code",
   "execution_count": 106,
   "metadata": {},
   "outputs": [
    {
     "name": "stdout",
     "output_type": "stream",
     "text": [
      "1608\n"
     ]
    }
   ],
   "source": [
    "users_with_started_tutorial = total_events[total_events['event_type']=='tutorial_start']['user_id'].unique()\n",
    "set_users_with_started_tutorial = set(users_with_started_tutorial)\n",
    "set_users_not_finished_but_started_tutorial = set_users_with_started_tutorial.difference(set(users_with_finished_tutorial))\n",
    "# Пользователи начавшие, но не закончившие обучение\n",
    "print(len(set_users_not_finished_but_started_tutorial))"
   ]
  },
  {
   "cell_type": "code",
   "execution_count": 69,
   "metadata": {},
   "outputs": [
    {
     "name": "stdout",
     "output_type": "stream",
     "text": [
      "8068\n"
     ]
    }
   ],
   "source": [
    "# Ищем пользователей, сразу выбравших уровень сложности\n",
    "all_users = total_events['user_id'].unique()\n",
    "set_all_users = set(all_users)\n",
    "set_users_not_started_tutorial = set_all_users.difference(set_users_with_started_tutorial)\n",
    "print(len(set_users_not_started_tutorial))"
   ]
  },
  {
   "cell_type": "code",
   "execution_count": 70,
   "metadata": {},
   "outputs": [
    {
     "data": {
      "text/plain": [
       "True"
      ]
     },
     "execution_count": 70,
     "metadata": {},
     "output_type": "execute_result"
    }
   ],
   "source": [
    "len(set_users_not_finished_but_started_tutorial) + len(set_users_not_started_tutorial)\\\n",
    "    + len(set(users_with_finished_tutorial))==len(set_all_users)"
   ]
  },
  {
   "cell_type": "markdown",
   "metadata": {},
   "source": [
    "Считаем пользователей, которые завершили обучение и совершили оплату"
   ]
  },
  {
   "cell_type": "code",
   "execution_count": 71,
   "metadata": {},
   "outputs": [
    {
     "data": {
      "text/plain": [
       "1447"
      ]
     },
     "execution_count": 71,
     "metadata": {},
     "output_type": "execute_result"
    }
   ],
   "source": [
    "purchase_finished_tutorial = purchase_registred[purchase_registred['user_id'].isin(users_with_finished_tutorial)]\n",
    "# Кол-во пользователей закончивших обучение и оплативших\n",
    "purchase_finished_tutorial['user_id'].nunique() "
   ]
  },
  {
   "cell_type": "code",
   "execution_count": 72,
   "metadata": {},
   "outputs": [
    {
     "name": "stdout",
     "output_type": "stream",
     "text": [
      "Процент пользователей, которые оплатили тренировки (от числа пользователей, завершивших обучение):    14.12%\n"
     ]
    }
   ],
   "source": [
    "percent_of_purchase_1 = purchase_finished_tutorial['user_id'].nunique() / len(users_with_finished_tutorial)\n",
    "print(f'Процент пользователей, которые оплатили тренировки (от числа пользователей, завершивших обучение):\\\n",
    "    {percent_of_purchase_1:.2%}')"
   ]
  },
  {
   "cell_type": "code",
   "execution_count": 74,
   "metadata": {},
   "outputs": [
    {
     "name": "stdout",
     "output_type": "stream",
     "text": [
      "131\n",
      "\"Процент пользователей, которые оплатили тренировки (от числа пользователей, начавших обучение, но не завершивших):    8.15%\n"
     ]
    }
   ],
   "source": [
    "purchase_started_not_finished_tutorial = \\\n",
    "    purchase_registred[purchase_registred['user_id'].isin(set_users_not_finished_but_started_tutorial)]\n",
    "print(purchase_started_not_finished_tutorial['user_id'].nunique())\n",
    "percent_of_purchase_2 = purchase_started_not_finished_tutorial['user_id'].nunique() / len(set_users_not_finished_but_started_tutorial)\n",
    "print(f'\"Процент пользователей, которые оплатили тренировки (от числа пользователей, начавших обучение, но не завершивших):\\\n",
    "    {percent_of_purchase_2:.2%}')"
   ]
  },
  {
   "cell_type": "code",
   "execution_count": 75,
   "metadata": {},
   "outputs": [
    {
     "data": {
      "text/plain": [
       "104.9618320610687"
      ]
     },
     "execution_count": 75,
     "metadata": {},
     "output_type": "execute_result"
    }
   ],
   "source": [
    "purchase_started_not_finished_tutorial['amount'].mean()"
   ]
  },
  {
   "cell_type": "code",
   "execution_count": 76,
   "metadata": {},
   "outputs": [
    {
     "name": "stdout",
     "output_type": "stream",
     "text": [
      "22\n",
      "\"Процент пользователей, которые оплатили тренировки (от числа пользователей, не начавших обучение):    0.27%\n"
     ]
    }
   ],
   "source": [
    "purchase_not_started_tutorial = \\\n",
    "    purchase_registred[purchase_registred['user_id'].isin(set_users_not_started_tutorial)]\n",
    "print(purchase_not_started_tutorial['user_id'].nunique()) \n",
    "percent_of_purchase_3 = purchase_not_started_tutorial['user_id'].nunique() / len(set_users_not_started_tutorial)\n",
    "print(f'\"Процент пользователей, которые оплатили тренировки (от числа пользователей, не начавших обучение):\\\n",
    "    {percent_of_purchase_3:.2%}')\n"
   ]
  },
  {
   "cell_type": "code",
   "execution_count": 77,
   "metadata": {},
   "outputs": [
    {
     "data": {
      "text/plain": [
       "128.4090909090909"
      ]
     },
     "execution_count": 77,
     "metadata": {},
     "output_type": "execute_result"
    }
   ],
   "source": [
    "purchase_not_started_tutorial['amount'].mean()"
   ]
  },
  {
   "cell_type": "markdown",
   "metadata": {},
   "source": [
    "Как мы видим, процент пользователей, которые завершили обучение и совершили оплату, выше, чем процент пользователей, которые не начали обучение или не закончили его."
   ]
  },
  {
   "cell_type": "markdown",
   "metadata": {},
   "source": [
    "Это говорит о том, что факт прохождения обучения влияет на дальнейшую мотивацию использовать приложение. Существенной разницы в среднем чеке при этом не наблюдается, то есть обучение увеличивает вовлечённость, но выбор количества платных пакетов зависит индивидуально от пользователя"
   ]
  }
 ],
 "metadata": {
  "kernelspec": {
   "display_name": "Python 3.9.10 64-bit",
   "language": "python",
   "name": "python3"
  },
  "language_info": {
   "codemirror_mode": {
    "name": "ipython",
    "version": 3
   },
   "file_extension": ".py",
   "mimetype": "text/x-python",
   "name": "python",
   "nbconvert_exporter": "python",
   "pygments_lexer": "ipython3",
   "version": "3.9.10"
  },
  "orig_nbformat": 4,
  "vscode": {
   "interpreter": {
    "hash": "0d591c6e422414675974e227c13f5382000c440fedd3c5006ef2be5d887f0ba7"
   }
  }
 },
 "nbformat": 4,
 "nbformat_minor": 2
}
